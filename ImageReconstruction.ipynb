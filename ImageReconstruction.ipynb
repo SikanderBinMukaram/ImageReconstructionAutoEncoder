{
  "nbformat": 4,
  "nbformat_minor": 0,
  "metadata": {
    "colab": {
      "name": "ImageReconstruction.ipynb",
      "provenance": [],
      "collapsed_sections": [],
      "toc_visible": true,
      "authorship_tag": "ABX9TyMu8TRkFJ8Sf/0pDOMXouQY",
      "include_colab_link": true
    },
    "kernelspec": {
      "name": "python3",
      "display_name": "Python 3"
    },
    "language_info": {
      "name": "python"
    },
    "accelerator": "GPU"
  },
  "cells": [
    {
      "cell_type": "markdown",
      "metadata": {
        "id": "view-in-github",
        "colab_type": "text"
      },
      "source": [
        "<a href=\"https://colab.research.google.com/github/SikanderBinMukaram/ImageReconstructionAutoEncoder/blob/main/ImageReconstruction.ipynb\" target=\"_parent\"><img src=\"https://colab.research.google.com/assets/colab-badge.svg\" alt=\"Open In Colab\"/></a>"
      ]
    },
    {
      "cell_type": "markdown",
      "metadata": {
        "id": "m2BC39GCjDyj"
      },
      "source": [
        "\n",
        "\n",
        "\n",
        "# **Reconstruction of images using Autoencoder**\n",
        "\n",
        "\n",
        "\n"
      ]
    },
    {
      "cell_type": "markdown",
      "metadata": {
        "id": "qlpYNtmijWgi"
      },
      "source": [
        "##Imports"
      ]
    },
    {
      "cell_type": "code",
      "metadata": {
        "id": "ddHPSeWq98ec",
        "colab": {
          "base_uri": "https://localhost:8080/"
        },
        "outputId": "d4be55d1-6f4c-4f2a-c401-c2f1fe875aaa"
      },
      "source": [
        "#imports\n",
        "import os\n",
        "import torch\n",
        "import gdown \n",
        "import torchvision\n",
        "import numpy as np\n",
        "from torch import nn\n",
        "from tqdm import tqdm\n",
        "!pip install pytorch_msssim\n",
        "from pytorch_msssim import ssim\n",
        "import torch.nn.functional as F\n",
        "from torchsummary import summary\n",
        "from torchvision import transforms\n",
        "from torch.autograd import Variable\n",
        "from torch.utils.data import DataLoader\n",
        "from torchvision.utils import save_image\n",
        "from torchvision.datasets import CIFAR10\n",
        "from torch.utils.data.sampler import SubsetRandomSampler\n",
        "from skimage.metrics import structural_similarity as ssimm\n",
        "import cv2\n",
        "from google.colab.patches import cv2_imshow\n",
        "\n"
      ],
      "execution_count": 1,
      "outputs": [
        {
          "output_type": "stream",
          "text": [
            "Collecting pytorch_msssim\n",
            "  Downloading https://files.pythonhosted.org/packages/9d/d3/3cb0f397232cf79e1762323c3a8862e39ad53eca0bb5f6be9ccc8e7c070e/pytorch_msssim-0.2.1-py3-none-any.whl\n",
            "Requirement already satisfied: torch in /usr/local/lib/python3.7/dist-packages (from pytorch_msssim) (1.8.1+cu101)\n",
            "Requirement already satisfied: typing-extensions in /usr/local/lib/python3.7/dist-packages (from torch->pytorch_msssim) (3.7.4.3)\n",
            "Requirement already satisfied: numpy in /usr/local/lib/python3.7/dist-packages (from torch->pytorch_msssim) (1.19.5)\n",
            "Installing collected packages: pytorch-msssim\n",
            "Successfully installed pytorch-msssim-0.2.1\n"
          ],
          "name": "stdout"
        }
      ]
    },
    {
      "cell_type": "code",
      "metadata": {
        "id": "CpDXLOiy-N8o"
      },
      "source": [
        "# os.environ[\"CUDA_VISIBLE_DEVICES\"]=\"1\" #using specific gpu"
      ],
      "execution_count": null,
      "outputs": []
    },
    {
      "cell_type": "code",
      "metadata": {
        "id": "rZDIrCt_-W5w"
      },
      "source": [
        "#Directory for saving intermediate images & models\n",
        "if not os.path.exists('./reconstruction'):\n",
        "    os.mkdir('./reconstruction')"
      ],
      "execution_count": 2,
      "outputs": []
    },
    {
      "cell_type": "markdown",
      "metadata": {
        "id": "nuXY9O2BjpaQ"
      },
      "source": [
        "##Model \n",
        "An autoencoder."
      ]
    },
    {
      "cell_type": "code",
      "metadata": {
        "id": "xIexkEeS-nQB"
      },
      "source": [
        "#Model & Functions\n",
        "\n",
        "#image values are clamped in range of 0 & 1 to get rid of negative values \n",
        "def to_img(x):\n",
        "    x = 0.5 * (x + 1)\n",
        "    x = x.clamp(0, 1)\n",
        "    x = x.view(x.size(0), 3, 32, 32)\n",
        "    return x\n",
        "\n",
        "\n",
        "\n",
        "\n",
        "class Autoencoder(nn.Module):\n",
        "    def __init__(self):\n",
        "        super(Autoencoder,self).__init__()\n",
        "        #Encoder\n",
        "        self.conv_1 = nn.Conv2d(3, 32, 3, stride=2, padding=1)\n",
        "        self.batchNorm1 = nn.BatchNorm2d(32)\n",
        "\n",
        "        self.conv_2 = nn.Conv2d(32, 64, 3, stride=2, padding=1)\n",
        "        self.batchNorm2 = nn.BatchNorm2d(64)\n",
        "\n",
        "        self.conv_3 = nn.Conv2d(64, 128, 3, stride=2, padding=1)\n",
        "        self.batchNorm3 = nn.BatchNorm2d(128)\n",
        "\n",
        "        self.conv_4 = nn.Conv2d(128, 256, 3, stride=2, padding=1)\n",
        "        self.batchNorm4 = nn.BatchNorm2d(256)\n",
        "\n",
        "        self.conv_5 = nn.Conv2d(256, 256, 3, stride=1, padding=1)\n",
        "        self.batchNorm5 = nn.BatchNorm2d(256)\n",
        "\n",
        "        #Decoder\n",
        "        self.deconv_1 = nn.ConvTranspose2d(256, 256, 3, stride=2, padding=1, output_padding=1)\n",
        "        self.batchNorm1_d = nn.BatchNorm2d(256)\n",
        "        \n",
        "        self.deconv_2 = nn.ConvTranspose2d(256+128, 128, 3, stride=2, padding=1, output_padding=1)\n",
        "        self.batchNorm2_d = nn.BatchNorm2d(128)\n",
        "        \n",
        "        self.deconv_3 = nn.ConvTranspose2d(128+64, 64, 3, stride=2, padding=1, output_padding=1)\n",
        "        self.batchNorm3_d = nn.BatchNorm2d(64)\n",
        "        \n",
        "        self.deconv_4 = nn.ConvTranspose2d(64+32, 32, 3, stride=2, padding=1, output_padding=1)\n",
        "        self.batchNorm4_d = nn.BatchNorm2d(32)\n",
        "        \n",
        "        self.deconv_5 = nn.ConvTranspose2d(32, 3, 3,  padding=1)\n",
        "\n",
        "\n",
        "    def forward(self, x):\n",
        "       conv_b1 = F.relu(self.batchNorm1(self.conv_1(x)))\n",
        "       conv_b2 = F.relu(self.batchNorm2(self.conv_2(conv_b1)))\n",
        "       conv_b3 = F.relu(self.batchNorm3(self.conv_3(conv_b2)))\n",
        "       conv_b4 = F.relu(self.batchNorm4(self.conv_4(conv_b3)))\n",
        "       conv_b5 = F.relu(self.batchNorm5(self.conv_5(conv_b4)))\n",
        "\n",
        "       deconv_b1 = F.relu(self.batchNorm1_d(self.deconv_1(conv_b5)))\n",
        "       concat_1 = torch.cat((deconv_b1, conv_b3),1)\n",
        "       \n",
        "       deconv_b2 = F.relu(self.batchNorm2_d(self.deconv_2(concat_1)))\n",
        "       concat_2 = torch.cat((deconv_b2, conv_b2),1)\n",
        "\n",
        "       deconv_b3 = F.relu(self.batchNorm3_d(self.deconv_3(concat_2)))\n",
        "       concat_3 = torch.cat((deconv_b3, conv_b1),1)\n",
        "\n",
        "       deconv_b4 = F.relu(self.batchNorm4_d(self.deconv_4(concat_3)))\n",
        "\n",
        "       deconv_b5 = F.tanh(  self.deconv_5(deconv_b4))\n",
        "              \n",
        "       return deconv_b5\n",
        "\n",
        "\n",
        "\n",
        "\n",
        "\n"
      ],
      "execution_count": 3,
      "outputs": []
    },
    {
      "cell_type": "markdown",
      "metadata": {
        "id": "_9TRg-koNiK0"
      },
      "source": [
        "##Function for Evaluation and Validation"
      ]
    },
    {
      "cell_type": "code",
      "metadata": {
        "id": "scStLDGlNpIB"
      },
      "source": [
        "\n",
        "# pass true when testing else false for validation\n",
        "def Evaluate(dataloader_, model, isTest):\n",
        "\n",
        "  MSE = nn.MSELoss()  #define mean square error loss\n",
        "\n",
        "  sample_idx = 0      # samples to store or show\n",
        "  total_mse = 0       # total mse error\n",
        "  total_ssim = 0      # total structure similarity error\n",
        "  total_psnr = 0      # total PSNR error\n",
        "\n",
        "  for data in tqdm(dataloader_, position=0, leave=True):\n",
        "\n",
        "      batch, _ = data       # Get a batch\n",
        "      batch = (batch).cuda()\n",
        "\n",
        "      # ===================forward=====================\n",
        "      # with torch.no_grad():\n",
        "      output = model(batch)   #we get output from the model which will be used for evaluation\n",
        "\n",
        "      #Normalise the images to have positive values between 0 & 1\n",
        "      out = to_img(output.cpu().data)\n",
        "      inp  = to_img(batch.cpu().data)\n",
        "\n",
        "            \n",
        "\n",
        "      #MSE \n",
        "      mse = MSE(out,inp)\n",
        "\n",
        "      #PSNR\n",
        "      psnr = 10 * torch.log10(1 / mse)\n",
        "      \n",
        "\n",
        "      #SSIM -  for ssim, I had to make changes to the dimensions in \n",
        "      #order to use the ssim function provided by skimage.metrics\n",
        "      out = np.moveaxis(np.squeeze(out.detach().numpy()), 0, -1)\n",
        "      inp = np.moveaxis(np.squeeze(inp.detach().numpy()), 0, -1)\n",
        "      ssim = ssimm(out, inp, multichannel=True)\n",
        "            \n",
        "      total_mse += mse\n",
        "      total_psnr+= psnr \n",
        "      total_ssim+= ssim\n",
        "\n",
        "      if isTest:\n",
        "        #save & show samples for evaluation\n",
        "        sample_idx+=1\n",
        "        if sample_idx % 500 == 0:\n",
        "          out = torch.cat((batch,output),0)\n",
        "          out = to_img(out.cpu().data)\n",
        "          save_image(out, './reconstruction/Test_image_out1_{}.png'.format(sample_idx))\n",
        "          example = cv2.imread('./reconstruction/Test_image_out1_{}.png'.format(sample_idx), cv2.IMREAD_UNCHANGED)\n",
        "          cv2_imshow(example)            \n",
        "\n",
        "  print('\\n\\nMSE :{:.4f}, PSNR: :{:.4f}, SSIM: :{:.4f}\\n\\n'\n",
        "        .format(total_mse/len(test_dataloader),total_psnr/len(test_dataloader), total_ssim/len(test_dataloader)))"
      ],
      "execution_count": 42,
      "outputs": []
    },
    {
      "cell_type": "markdown",
      "metadata": {
        "id": "GXCb4Vl9kFrA"
      },
      "source": [
        "##Hyperparameters"
      ]
    },
    {
      "cell_type": "code",
      "metadata": {
        "id": "V0k2I80j_7u2"
      },
      "source": [
        "#Hyperparameters\n",
        "\n",
        "num_epochs = 50 #400\n",
        "batch_size = 256\n",
        "learning_rate = 1e-3\n"
      ],
      "execution_count": 38,
      "outputs": []
    },
    {
      "cell_type": "markdown",
      "metadata": {
        "id": "fyPRMA3zkOXt"
      },
      "source": [
        "##Dataloaders"
      ]
    },
    {
      "cell_type": "code",
      "metadata": {
        "colab": {
          "base_uri": "https://localhost:8080/"
        },
        "id": "B6EfOMs1A0h0",
        "outputId": "e2333bbf-2043-42bf-991e-ba3868831ad3"
      },
      "source": [
        "#Data Loaders\n",
        "#image transformations\n",
        "img_transform = transforms.Compose([\n",
        "    transforms.ToTensor(),\n",
        "    transforms.Normalize((0.5), (0.5), (0.5))\n",
        "])\n",
        "\n",
        "#training & validation data\n",
        "train_dataset = CIFAR10('../data/', train=True, download=True, transform=img_transform)\n",
        "valid_dataset = CIFAR10('../data/', train=True, download=True, transform=img_transform)\n",
        "\n",
        "#Spliting into validation and training datasets\n",
        "# we don't have a direct method to get validation dataset so I had \n",
        "# to split the training data myself using  SubsetRandomSampler\n",
        "valid_size = 0.1\n",
        "num_train = len(train_dataset)\n",
        "indices = list(range(num_train))\n",
        "split = int(np.floor(valid_size * num_train))\n",
        "train_idx, valid_idx = indices[split:], indices[:split]\n",
        "train_sampler = SubsetRandomSampler(train_idx)\n",
        "valid_sampler = SubsetRandomSampler(valid_idx)\n",
        "\n",
        "train_dataloader = DataLoader(train_dataset,batch_size=batch_size, sampler=train_sampler ,shuffle=False)\n",
        "valid_dataloader = DataLoader(train_dataset,batch_size=1, sampler=valid_sampler ,shuffle=False)\n",
        "\n",
        "#testing data\n",
        "test_dataset = CIFAR10('../data/', train=False, download=True, transform=img_transform)\n",
        "test_dataloader = DataLoader(test_dataset, batch_size=1, shuffle=False)"
      ],
      "execution_count": 31,
      "outputs": [
        {
          "output_type": "stream",
          "text": [
            "Files already downloaded and verified\n",
            "Files already downloaded and verified\n",
            "Files already downloaded and verified\n"
          ],
          "name": "stdout"
        }
      ]
    },
    {
      "cell_type": "markdown",
      "metadata": {
        "id": "kNSISPVekTv2"
      },
      "source": [
        "##Using Pre-trained model"
      ]
    },
    {
      "cell_type": "code",
      "metadata": {
        "id": "YVjECr18CRji",
        "colab": {
          "base_uri": "https://localhost:8080/"
        },
        "outputId": "30f68ccd-94c9-436b-90a4-b7bf36ff3c53"
      },
      "source": [
        "#use a pretrained model if available else a New model\n",
        "\n",
        "model = Autoencoder().cuda()\n",
        "\n",
        "if not os.path.exists('./PretrainModels'):\n",
        "    os.mkdir('./PretrainModels')\n",
        "\n",
        "#uncomment if finetuning with a pretrained model\n",
        "# else:\n",
        "#     model.load_state_dict(torch.load('./PretrainModels/AE_model_{}.pth'.format(num_epochs)))\n",
        "\n",
        "\n",
        "#check model parameters\n",
        "summary(model,(3,32,32))"
      ],
      "execution_count": 8,
      "outputs": [
        {
          "output_type": "stream",
          "text": [
            "----------------------------------------------------------------\n",
            "        Layer (type)               Output Shape         Param #\n",
            "================================================================\n",
            "            Conv2d-1           [-1, 32, 16, 16]             896\n",
            "       BatchNorm2d-2           [-1, 32, 16, 16]              64\n",
            "            Conv2d-3             [-1, 64, 8, 8]          18,496\n",
            "       BatchNorm2d-4             [-1, 64, 8, 8]             128\n",
            "            Conv2d-5            [-1, 128, 4, 4]          73,856\n",
            "       BatchNorm2d-6            [-1, 128, 4, 4]             256\n",
            "            Conv2d-7            [-1, 256, 2, 2]         295,168\n",
            "       BatchNorm2d-8            [-1, 256, 2, 2]             512\n",
            "            Conv2d-9            [-1, 256, 2, 2]         590,080\n",
            "      BatchNorm2d-10            [-1, 256, 2, 2]             512\n",
            "  ConvTranspose2d-11            [-1, 256, 4, 4]         590,080\n",
            "      BatchNorm2d-12            [-1, 256, 4, 4]             512\n",
            "  ConvTranspose2d-13            [-1, 128, 8, 8]         442,496\n",
            "      BatchNorm2d-14            [-1, 128, 8, 8]             256\n",
            "  ConvTranspose2d-15           [-1, 64, 16, 16]         110,656\n",
            "      BatchNorm2d-16           [-1, 64, 16, 16]             128\n",
            "  ConvTranspose2d-17           [-1, 32, 32, 32]          27,680\n",
            "      BatchNorm2d-18           [-1, 32, 32, 32]              64\n",
            "  ConvTranspose2d-19            [-1, 3, 32, 32]             867\n",
            "================================================================\n",
            "Total params: 2,152,707\n",
            "Trainable params: 2,152,707\n",
            "Non-trainable params: 0\n",
            "----------------------------------------------------------------\n",
            "Input size (MB): 0.01\n",
            "Forward/backward pass size (MB): 1.21\n",
            "Params size (MB): 8.21\n",
            "Estimated Total Size (MB): 9.43\n",
            "----------------------------------------------------------------\n"
          ],
          "name": "stdout"
        },
        {
          "output_type": "stream",
          "text": [
            "/usr/local/lib/python3.7/dist-packages/torch/nn/functional.py:1698: UserWarning: nn.functional.tanh is deprecated. Use torch.tanh instead.\n",
            "  warnings.warn(\"nn.functional.tanh is deprecated. Use torch.tanh instead.\")\n"
          ],
          "name": "stderr"
        }
      ]
    },
    {
      "cell_type": "markdown",
      "metadata": {
        "id": "2HxLXvrgnqyb"
      },
      "source": [
        "##Losses Used"
      ]
    },
    {
      "cell_type": "code",
      "metadata": {
        "id": "t_ZtGvbLDkTg"
      },
      "source": [
        "#Loss used\n",
        "\n",
        "MSE = nn.MSELoss()"
      ],
      "execution_count": 9,
      "outputs": []
    },
    {
      "cell_type": "markdown",
      "metadata": {
        "id": "LfzSGDKtnvLD"
      },
      "source": [
        "##Optimizer"
      ]
    },
    {
      "cell_type": "code",
      "metadata": {
        "id": "HB-RjISQD3tn"
      },
      "source": [
        "#Optimizer\n",
        "optimizer = torch.optim.Adam(model.parameters(), lr=learning_rate,\n",
        "                             weight_decay=1e-5)"
      ],
      "execution_count": 10,
      "outputs": []
    },
    {
      "cell_type": "markdown",
      "metadata": {
        "id": "5ZXMcMMPkrsM"
      },
      "source": [
        "##**Training**"
      ]
    },
    {
      "cell_type": "code",
      "metadata": {
        "colab": {
          "base_uri": "https://localhost:8080/"
        },
        "id": "-bUF1jmeEAE8",
        "outputId": "cc324ffa-fbc3-4a50-eb48-3aaead97c1b5"
      },
      "source": [
        "#Training\n",
        "\n",
        "for epoch in range(num_epochs):\n",
        "    total_loss = 0\n",
        "    for data in tqdm(train_dataloader, position=0, leave=True):\n",
        "\n",
        "        batch, _ = data       # Get a batch\n",
        "        batch = (batch).cuda()\n",
        "\n",
        "        # ===================forward=====================\n",
        "        # with torch.no_grad():\n",
        "        output = model(batch)   #we get output from the model which will be used for evaluation\n",
        "              \n",
        "\n",
        "        #MSE \n",
        "        loss = MSE(output,batch)\n",
        "\n",
        "\n",
        "        # ===================backward====================\n",
        "        optimizer.zero_grad()\n",
        "        loss.backward()\n",
        "        optimizer.step()\n",
        "\n",
        "\n",
        "        # ===================log========================\n",
        "        total_loss += loss.data\n",
        "\n",
        "\n",
        "    print('\\nepoch [{}/{}], loss:{:.6f}\\n'\n",
        "          .format(epoch+1, num_epochs, total_loss/(len(train_dataloader))))\n",
        "    if (epoch+1) % 10 == 0:\n",
        "        out = torch.cat((batch,output),0)\n",
        "        #print(out.shape)\n",
        "        out = to_img(out.cpu().data)\n",
        "        #save output and input images\n",
        "        save_image(out, './reconstruction/image_out_{}.png'.format(epoch+1))\n",
        "        #save model \n",
        "        torch.save(model.state_dict(), './PretrainModels/AE_model_{}.pth'.format(epoch+1))\n",
        "        print(\"\\nValidation...\")\n",
        "        Evaluate(valid_dataloader, model, False)\n",
        "\n",
        "\n"
      ],
      "execution_count": 39,
      "outputs": [
        {
          "output_type": "stream",
          "text": [
            "  0%|          | 0/704 [00:00<?, ?it/s]/usr/local/lib/python3.7/dist-packages/torch/nn/functional.py:1698: UserWarning: nn.functional.tanh is deprecated. Use torch.tanh instead.\n",
            "  warnings.warn(\"nn.functional.tanh is deprecated. Use torch.tanh instead.\")\n",
            "100%|██████████| 704/704 [00:13<00:00, 53.16it/s]\n",
            "  0%|          | 1/704 [00:00<01:43,  6.82it/s]"
          ],
          "name": "stderr"
        },
        {
          "output_type": "stream",
          "text": [
            "\n",
            "epoch [1/50], loss:0.000745\n",
            "\n"
          ],
          "name": "stdout"
        },
        {
          "output_type": "stream",
          "text": [
            "100%|██████████| 704/704 [00:13<00:00, 52.22it/s]\n",
            "  1%|          | 4/704 [00:00<00:17, 39.25it/s]"
          ],
          "name": "stderr"
        },
        {
          "output_type": "stream",
          "text": [
            "\n",
            "epoch [2/50], loss:0.000726\n",
            "\n"
          ],
          "name": "stdout"
        },
        {
          "output_type": "stream",
          "text": [
            "100%|██████████| 704/704 [00:13<00:00, 52.90it/s]\n",
            "  0%|          | 1/704 [00:00<01:34,  7.42it/s]"
          ],
          "name": "stderr"
        },
        {
          "output_type": "stream",
          "text": [
            "\n",
            "epoch [3/50], loss:0.000674\n",
            "\n"
          ],
          "name": "stdout"
        },
        {
          "output_type": "stream",
          "text": [
            "100%|██████████| 704/704 [00:13<00:00, 52.28it/s]\n",
            "  1%|          | 4/704 [00:00<00:18, 37.34it/s]"
          ],
          "name": "stderr"
        },
        {
          "output_type": "stream",
          "text": [
            "\n",
            "epoch [4/50], loss:0.000669\n",
            "\n"
          ],
          "name": "stdout"
        },
        {
          "output_type": "stream",
          "text": [
            "100%|██████████| 704/704 [00:13<00:00, 53.32it/s]\n",
            "  0%|          | 1/704 [00:00<01:35,  7.36it/s]"
          ],
          "name": "stderr"
        },
        {
          "output_type": "stream",
          "text": [
            "\n",
            "epoch [5/50], loss:0.000681\n",
            "\n"
          ],
          "name": "stdout"
        },
        {
          "output_type": "stream",
          "text": [
            "100%|██████████| 704/704 [00:13<00:00, 53.13it/s]\n",
            "  1%|          | 4/704 [00:00<00:18, 36.94it/s]"
          ],
          "name": "stderr"
        },
        {
          "output_type": "stream",
          "text": [
            "\n",
            "epoch [6/50], loss:0.000690\n",
            "\n"
          ],
          "name": "stdout"
        },
        {
          "output_type": "stream",
          "text": [
            "100%|██████████| 704/704 [00:13<00:00, 54.07it/s]\n",
            "  0%|          | 1/704 [00:00<01:33,  7.55it/s]"
          ],
          "name": "stderr"
        },
        {
          "output_type": "stream",
          "text": [
            "\n",
            "epoch [7/50], loss:0.000734\n",
            "\n"
          ],
          "name": "stdout"
        },
        {
          "output_type": "stream",
          "text": [
            "100%|██████████| 704/704 [00:13<00:00, 53.54it/s]\n",
            "  1%|          | 4/704 [00:00<00:17, 39.69it/s]"
          ],
          "name": "stderr"
        },
        {
          "output_type": "stream",
          "text": [
            "\n",
            "epoch [8/50], loss:0.000715\n",
            "\n"
          ],
          "name": "stdout"
        },
        {
          "output_type": "stream",
          "text": [
            "100%|██████████| 704/704 [00:13<00:00, 53.85it/s]\n",
            "  0%|          | 1/704 [00:00<01:30,  7.80it/s]"
          ],
          "name": "stderr"
        },
        {
          "output_type": "stream",
          "text": [
            "\n",
            "epoch [9/50], loss:0.000686\n",
            "\n"
          ],
          "name": "stdout"
        },
        {
          "output_type": "stream",
          "text": [
            "100%|██████████| 704/704 [00:13<00:00, 53.77it/s]\n",
            "  1%|          | 27/5000 [00:00<00:18, 265.40it/s]"
          ],
          "name": "stderr"
        },
        {
          "output_type": "stream",
          "text": [
            "\n",
            "epoch [10/50], loss:0.000620\n",
            "\n",
            "\n",
            "Validation...\n"
          ],
          "name": "stdout"
        },
        {
          "output_type": "stream",
          "text": [
            "100%|██████████| 5000/5000 [00:17<00:00, 285.63it/s]\n",
            "  0%|          | 3/704 [00:00<00:27, 25.44it/s]"
          ],
          "name": "stderr"
        },
        {
          "output_type": "stream",
          "text": [
            "\n",
            "\n",
            "MSE :0.0088, PSNR: :9.7214, SSIM: :0.4463\n",
            "\n",
            "\n"
          ],
          "name": "stdout"
        },
        {
          "output_type": "stream",
          "text": [
            "100%|██████████| 704/704 [00:12<00:00, 54.28it/s]\n",
            "  0%|          | 1/704 [00:00<01:28,  7.96it/s]"
          ],
          "name": "stderr"
        },
        {
          "output_type": "stream",
          "text": [
            "\n",
            "epoch [11/50], loss:0.000625\n",
            "\n"
          ],
          "name": "stdout"
        },
        {
          "output_type": "stream",
          "text": [
            "100%|██████████| 704/704 [00:13<00:00, 53.26it/s]\n",
            "  1%|          | 4/704 [00:00<00:18, 38.88it/s]"
          ],
          "name": "stderr"
        },
        {
          "output_type": "stream",
          "text": [
            "\n",
            "epoch [12/50], loss:0.000680\n",
            "\n"
          ],
          "name": "stdout"
        },
        {
          "output_type": "stream",
          "text": [
            "100%|██████████| 704/704 [00:13<00:00, 53.32it/s]\n",
            "  0%|          | 1/704 [00:00<01:28,  7.94it/s]"
          ],
          "name": "stderr"
        },
        {
          "output_type": "stream",
          "text": [
            "\n",
            "epoch [13/50], loss:0.000636\n",
            "\n"
          ],
          "name": "stdout"
        },
        {
          "output_type": "stream",
          "text": [
            "100%|██████████| 704/704 [00:13<00:00, 53.73it/s]\n",
            "  1%|          | 4/704 [00:00<00:18, 38.67it/s]"
          ],
          "name": "stderr"
        },
        {
          "output_type": "stream",
          "text": [
            "\n",
            "epoch [14/50], loss:0.000678\n",
            "\n"
          ],
          "name": "stdout"
        },
        {
          "output_type": "stream",
          "text": [
            "100%|██████████| 704/704 [00:12<00:00, 54.66it/s]\n",
            "  1%|          | 4/704 [00:00<00:17, 39.43it/s]"
          ],
          "name": "stderr"
        },
        {
          "output_type": "stream",
          "text": [
            "\n",
            "epoch [15/50], loss:0.000655\n",
            "\n"
          ],
          "name": "stdout"
        },
        {
          "output_type": "stream",
          "text": [
            "100%|██████████| 704/704 [00:12<00:00, 54.78it/s]\n",
            "  0%|          | 1/704 [00:00<01:29,  7.82it/s]"
          ],
          "name": "stderr"
        },
        {
          "output_type": "stream",
          "text": [
            "\n",
            "epoch [16/50], loss:0.000629\n",
            "\n"
          ],
          "name": "stdout"
        },
        {
          "output_type": "stream",
          "text": [
            "100%|██████████| 704/704 [00:12<00:00, 54.29it/s]\n",
            "  1%|          | 4/704 [00:00<00:19, 36.81it/s]"
          ],
          "name": "stderr"
        },
        {
          "output_type": "stream",
          "text": [
            "\n",
            "epoch [17/50], loss:0.000641\n",
            "\n"
          ],
          "name": "stdout"
        },
        {
          "output_type": "stream",
          "text": [
            "100%|██████████| 704/704 [00:12<00:00, 54.68it/s]\n",
            "  0%|          | 1/704 [00:00<01:24,  8.36it/s]"
          ],
          "name": "stderr"
        },
        {
          "output_type": "stream",
          "text": [
            "\n",
            "epoch [18/50], loss:0.000639\n",
            "\n"
          ],
          "name": "stdout"
        },
        {
          "output_type": "stream",
          "text": [
            "100%|██████████| 704/704 [00:13<00:00, 53.96it/s]\n",
            "  1%|          | 4/704 [00:00<00:18, 37.22it/s]"
          ],
          "name": "stderr"
        },
        {
          "output_type": "stream",
          "text": [
            "\n",
            "epoch [19/50], loss:0.000660\n",
            "\n"
          ],
          "name": "stdout"
        },
        {
          "output_type": "stream",
          "text": [
            "100%|██████████| 704/704 [00:13<00:00, 54.04it/s]\n",
            "  1%|          | 29/5000 [00:00<00:17, 281.30it/s]"
          ],
          "name": "stderr"
        },
        {
          "output_type": "stream",
          "text": [
            "\n",
            "epoch [20/50], loss:0.000575\n",
            "\n",
            "\n",
            "Validation...\n"
          ],
          "name": "stdout"
        },
        {
          "output_type": "stream",
          "text": [
            "100%|██████████| 5000/5000 [00:17<00:00, 285.58it/s]\n",
            "  0%|          | 1/704 [00:00<01:31,  7.66it/s]"
          ],
          "name": "stderr"
        },
        {
          "output_type": "stream",
          "text": [
            "\n",
            "\n",
            "MSE :0.0087, PSNR: :9.8034, SSIM: :0.4488\n",
            "\n",
            "\n"
          ],
          "name": "stdout"
        },
        {
          "output_type": "stream",
          "text": [
            "100%|██████████| 704/704 [00:13<00:00, 54.00it/s]\n",
            "  1%|          | 4/704 [00:00<00:17, 39.86it/s]"
          ],
          "name": "stderr"
        },
        {
          "output_type": "stream",
          "text": [
            "\n",
            "epoch [21/50], loss:0.000596\n",
            "\n"
          ],
          "name": "stdout"
        },
        {
          "output_type": "stream",
          "text": [
            "100%|██████████| 704/704 [00:13<00:00, 53.54it/s]\n",
            "  0%|          | 1/704 [00:00<01:28,  7.97it/s]"
          ],
          "name": "stderr"
        },
        {
          "output_type": "stream",
          "text": [
            "\n",
            "epoch [22/50], loss:0.000599\n",
            "\n"
          ],
          "name": "stdout"
        },
        {
          "output_type": "stream",
          "text": [
            "100%|██████████| 704/704 [00:13<00:00, 53.01it/s]\n",
            "  1%|          | 4/704 [00:00<00:18, 37.96it/s]"
          ],
          "name": "stderr"
        },
        {
          "output_type": "stream",
          "text": [
            "\n",
            "epoch [23/50], loss:0.000593\n",
            "\n"
          ],
          "name": "stdout"
        },
        {
          "output_type": "stream",
          "text": [
            "100%|██████████| 704/704 [00:13<00:00, 53.95it/s]\n",
            "  0%|          | 1/704 [00:00<01:37,  7.19it/s]"
          ],
          "name": "stderr"
        },
        {
          "output_type": "stream",
          "text": [
            "\n",
            "epoch [24/50], loss:0.000581\n",
            "\n"
          ],
          "name": "stdout"
        },
        {
          "output_type": "stream",
          "text": [
            "100%|██████████| 704/704 [00:13<00:00, 54.10it/s]\n",
            "  1%|          | 4/704 [00:00<00:17, 39.78it/s]"
          ],
          "name": "stderr"
        },
        {
          "output_type": "stream",
          "text": [
            "\n",
            "epoch [25/50], loss:0.000624\n",
            "\n"
          ],
          "name": "stdout"
        },
        {
          "output_type": "stream",
          "text": [
            "100%|██████████| 704/704 [00:12<00:00, 54.85it/s]\n",
            "  0%|          | 1/704 [00:00<01:37,  7.21it/s]"
          ],
          "name": "stderr"
        },
        {
          "output_type": "stream",
          "text": [
            "\n",
            "epoch [26/50], loss:0.000573\n",
            "\n"
          ],
          "name": "stdout"
        },
        {
          "output_type": "stream",
          "text": [
            "100%|██████████| 704/704 [00:12<00:00, 54.35it/s]\n",
            "  1%|          | 4/704 [00:00<00:19, 35.57it/s]"
          ],
          "name": "stderr"
        },
        {
          "output_type": "stream",
          "text": [
            "\n",
            "epoch [27/50], loss:0.000584\n",
            "\n"
          ],
          "name": "stdout"
        },
        {
          "output_type": "stream",
          "text": [
            "100%|██████████| 704/704 [00:13<00:00, 54.08it/s]\n",
            "  0%|          | 1/704 [00:00<01:31,  7.64it/s]"
          ],
          "name": "stderr"
        },
        {
          "output_type": "stream",
          "text": [
            "\n",
            "epoch [28/50], loss:0.000559\n",
            "\n"
          ],
          "name": "stdout"
        },
        {
          "output_type": "stream",
          "text": [
            "100%|██████████| 704/704 [00:13<00:00, 53.50it/s]\n",
            "  1%|          | 4/704 [00:00<00:18, 38.51it/s]"
          ],
          "name": "stderr"
        },
        {
          "output_type": "stream",
          "text": [
            "\n",
            "epoch [29/50], loss:0.000593\n",
            "\n"
          ],
          "name": "stdout"
        },
        {
          "output_type": "stream",
          "text": [
            "100%|██████████| 704/704 [00:13<00:00, 54.11it/s]\n",
            "  1%|          | 29/5000 [00:00<00:17, 283.37it/s]"
          ],
          "name": "stderr"
        },
        {
          "output_type": "stream",
          "text": [
            "\n",
            "epoch [30/50], loss:0.000555\n",
            "\n",
            "\n",
            "Validation...\n"
          ],
          "name": "stdout"
        },
        {
          "output_type": "stream",
          "text": [
            "100%|██████████| 5000/5000 [00:17<00:00, 283.36it/s]\n",
            "  0%|          | 1/704 [00:00<01:39,  7.07it/s]"
          ],
          "name": "stderr"
        },
        {
          "output_type": "stream",
          "text": [
            "\n",
            "\n",
            "MSE :0.0087, PSNR: :9.8070, SSIM: :0.4485\n",
            "\n",
            "\n"
          ],
          "name": "stdout"
        },
        {
          "output_type": "stream",
          "text": [
            "100%|██████████| 704/704 [00:13<00:00, 53.83it/s]\n",
            "  1%|          | 4/704 [00:00<00:18, 38.63it/s]"
          ],
          "name": "stderr"
        },
        {
          "output_type": "stream",
          "text": [
            "\n",
            "epoch [31/50], loss:0.000584\n",
            "\n"
          ],
          "name": "stdout"
        },
        {
          "output_type": "stream",
          "text": [
            "100%|██████████| 704/704 [00:13<00:00, 53.67it/s]\n",
            "  0%|          | 1/704 [00:00<01:36,  7.32it/s]"
          ],
          "name": "stderr"
        },
        {
          "output_type": "stream",
          "text": [
            "\n",
            "epoch [32/50], loss:0.000553\n",
            "\n"
          ],
          "name": "stdout"
        },
        {
          "output_type": "stream",
          "text": [
            "100%|██████████| 704/704 [00:13<00:00, 52.68it/s]\n",
            "  1%|          | 4/704 [00:00<00:18, 37.27it/s]"
          ],
          "name": "stderr"
        },
        {
          "output_type": "stream",
          "text": [
            "\n",
            "epoch [33/50], loss:0.000611\n",
            "\n"
          ],
          "name": "stdout"
        },
        {
          "output_type": "stream",
          "text": [
            "100%|██████████| 704/704 [00:13<00:00, 53.79it/s]\n",
            "  0%|          | 1/704 [00:00<01:30,  7.73it/s]"
          ],
          "name": "stderr"
        },
        {
          "output_type": "stream",
          "text": [
            "\n",
            "epoch [34/50], loss:0.000508\n",
            "\n"
          ],
          "name": "stdout"
        },
        {
          "output_type": "stream",
          "text": [
            "100%|██████████| 704/704 [00:13<00:00, 54.03it/s]\n",
            "  1%|          | 4/704 [00:00<00:18, 38.50it/s]"
          ],
          "name": "stderr"
        },
        {
          "output_type": "stream",
          "text": [
            "\n",
            "epoch [35/50], loss:0.000514\n",
            "\n"
          ],
          "name": "stdout"
        },
        {
          "output_type": "stream",
          "text": [
            "100%|██████████| 704/704 [00:12<00:00, 54.55it/s]\n",
            "  0%|          | 1/704 [00:00<01:29,  7.89it/s]"
          ],
          "name": "stderr"
        },
        {
          "output_type": "stream",
          "text": [
            "\n",
            "epoch [36/50], loss:0.000539\n",
            "\n"
          ],
          "name": "stdout"
        },
        {
          "output_type": "stream",
          "text": [
            "100%|██████████| 704/704 [00:13<00:00, 53.99it/s]\n",
            "  1%|          | 4/704 [00:00<00:18, 37.40it/s]"
          ],
          "name": "stderr"
        },
        {
          "output_type": "stream",
          "text": [
            "\n",
            "epoch [37/50], loss:0.000516\n",
            "\n"
          ],
          "name": "stdout"
        },
        {
          "output_type": "stream",
          "text": [
            "100%|██████████| 704/704 [00:13<00:00, 53.84it/s]\n",
            "  0%|          | 1/704 [00:00<01:30,  7.80it/s]"
          ],
          "name": "stderr"
        },
        {
          "output_type": "stream",
          "text": [
            "\n",
            "epoch [38/50], loss:0.000553\n",
            "\n"
          ],
          "name": "stdout"
        },
        {
          "output_type": "stream",
          "text": [
            "100%|██████████| 704/704 [00:13<00:00, 53.67it/s]\n",
            "  1%|          | 4/704 [00:00<00:17, 39.44it/s]"
          ],
          "name": "stderr"
        },
        {
          "output_type": "stream",
          "text": [
            "\n",
            "epoch [39/50], loss:0.000542\n",
            "\n"
          ],
          "name": "stdout"
        },
        {
          "output_type": "stream",
          "text": [
            "100%|██████████| 704/704 [00:13<00:00, 53.98it/s]\n",
            "  1%|          | 28/5000 [00:00<00:18, 270.48it/s]"
          ],
          "name": "stderr"
        },
        {
          "output_type": "stream",
          "text": [
            "\n",
            "epoch [40/50], loss:0.000512\n",
            "\n",
            "\n",
            "Validation...\n"
          ],
          "name": "stdout"
        },
        {
          "output_type": "stream",
          "text": [
            "100%|██████████| 5000/5000 [00:17<00:00, 285.82it/s]\n",
            "  0%|          | 1/704 [00:00<01:30,  7.81it/s]"
          ],
          "name": "stderr"
        },
        {
          "output_type": "stream",
          "text": [
            "\n",
            "\n",
            "MSE :0.0086, PSNR: :9.8394, SSIM: :0.4495\n",
            "\n",
            "\n"
          ],
          "name": "stdout"
        },
        {
          "output_type": "stream",
          "text": [
            "100%|██████████| 704/704 [00:13<00:00, 54.00it/s]\n",
            "  1%|          | 4/704 [00:00<00:18, 38.15it/s]"
          ],
          "name": "stderr"
        },
        {
          "output_type": "stream",
          "text": [
            "\n",
            "epoch [41/50], loss:0.000550\n",
            "\n"
          ],
          "name": "stdout"
        },
        {
          "output_type": "stream",
          "text": [
            "100%|██████████| 704/704 [00:13<00:00, 53.61it/s]\n",
            "  0%|          | 1/704 [00:00<01:32,  7.60it/s]"
          ],
          "name": "stderr"
        },
        {
          "output_type": "stream",
          "text": [
            "\n",
            "epoch [42/50], loss:0.000531\n",
            "\n"
          ],
          "name": "stdout"
        },
        {
          "output_type": "stream",
          "text": [
            "100%|██████████| 704/704 [00:13<00:00, 52.78it/s]\n",
            "  1%|          | 4/704 [00:00<00:19, 35.47it/s]"
          ],
          "name": "stderr"
        },
        {
          "output_type": "stream",
          "text": [
            "\n",
            "epoch [43/50], loss:0.000530\n",
            "\n"
          ],
          "name": "stdout"
        },
        {
          "output_type": "stream",
          "text": [
            "100%|██████████| 704/704 [00:13<00:00, 53.69it/s]\n",
            "  0%|          | 1/704 [00:00<01:34,  7.47it/s]"
          ],
          "name": "stderr"
        },
        {
          "output_type": "stream",
          "text": [
            "\n",
            "epoch [44/50], loss:0.000518\n",
            "\n"
          ],
          "name": "stdout"
        },
        {
          "output_type": "stream",
          "text": [
            "100%|██████████| 704/704 [00:12<00:00, 54.15it/s]\n",
            "  1%|          | 4/704 [00:00<00:19, 35.57it/s]"
          ],
          "name": "stderr"
        },
        {
          "output_type": "stream",
          "text": [
            "\n",
            "epoch [45/50], loss:0.000520\n",
            "\n"
          ],
          "name": "stdout"
        },
        {
          "output_type": "stream",
          "text": [
            "100%|██████████| 704/704 [00:12<00:00, 54.71it/s]\n",
            "  0%|          | 1/704 [00:00<01:29,  7.87it/s]"
          ],
          "name": "stderr"
        },
        {
          "output_type": "stream",
          "text": [
            "\n",
            "epoch [46/50], loss:0.000518\n",
            "\n"
          ],
          "name": "stdout"
        },
        {
          "output_type": "stream",
          "text": [
            "100%|██████████| 704/704 [00:12<00:00, 54.37it/s]\n",
            "  1%|          | 4/704 [00:00<00:19, 35.94it/s]"
          ],
          "name": "stderr"
        },
        {
          "output_type": "stream",
          "text": [
            "\n",
            "epoch [47/50], loss:0.000511\n",
            "\n"
          ],
          "name": "stdout"
        },
        {
          "output_type": "stream",
          "text": [
            "100%|██████████| 704/704 [00:12<00:00, 54.27it/s]\n",
            "  0%|          | 1/704 [00:00<01:32,  7.59it/s]"
          ],
          "name": "stderr"
        },
        {
          "output_type": "stream",
          "text": [
            "\n",
            "epoch [48/50], loss:0.000497\n",
            "\n"
          ],
          "name": "stdout"
        },
        {
          "output_type": "stream",
          "text": [
            "100%|██████████| 704/704 [00:13<00:00, 53.49it/s]\n",
            "  1%|          | 4/704 [00:00<00:18, 38.13it/s]"
          ],
          "name": "stderr"
        },
        {
          "output_type": "stream",
          "text": [
            "\n",
            "epoch [49/50], loss:0.000478\n",
            "\n"
          ],
          "name": "stdout"
        },
        {
          "output_type": "stream",
          "text": [
            "100%|██████████| 704/704 [00:12<00:00, 54.25it/s]\n",
            "  1%|          | 26/5000 [00:00<00:19, 252.59it/s]"
          ],
          "name": "stderr"
        },
        {
          "output_type": "stream",
          "text": [
            "\n",
            "epoch [50/50], loss:0.000508\n",
            "\n",
            "\n",
            "Validation...\n"
          ],
          "name": "stdout"
        },
        {
          "output_type": "stream",
          "text": [
            "100%|██████████| 5000/5000 [00:17<00:00, 285.60it/s]"
          ],
          "name": "stderr"
        },
        {
          "output_type": "stream",
          "text": [
            "\n",
            "\n",
            "MSE :0.0086, PSNR: :9.8459, SSIM: :0.4495\n",
            "\n",
            "\n"
          ],
          "name": "stdout"
        },
        {
          "output_type": "stream",
          "text": [
            "\n"
          ],
          "name": "stderr"
        }
      ]
    },
    {
      "cell_type": "markdown",
      "metadata": {
        "id": "W0mCAPMIk1-v"
      },
      "source": [
        "##**Evaluation**\n",
        "I have used MSE, PSNR and SSIM for evaluation."
      ]
    },
    {
      "cell_type": "code",
      "metadata": {
        "colab": {
          "base_uri": "https://localhost:8080/"
        },
        "id": "nRiAjKOPGXow",
        "outputId": "4fb67161-2736-4c1f-e6bf-1710d411b975"
      },
      "source": [
        "#Loading model \n",
        "#use a pretrained model \n",
        "model = Autoencoder().cuda()\n",
        "#check model parameters\n",
        "summary(model,(3,32,32))\n"
      ],
      "execution_count": null,
      "outputs": [
        {
          "output_type": "stream",
          "text": [
            "----------------------------------------------------------------\n",
            "        Layer (type)               Output Shape         Param #\n",
            "================================================================\n",
            "            Conv2d-1           [-1, 32, 16, 16]             896\n",
            "       BatchNorm2d-2           [-1, 32, 16, 16]              64\n",
            "            Conv2d-3             [-1, 64, 8, 8]          18,496\n",
            "       BatchNorm2d-4             [-1, 64, 8, 8]             128\n",
            "            Conv2d-5            [-1, 128, 4, 4]          73,856\n",
            "       BatchNorm2d-6            [-1, 128, 4, 4]             256\n",
            "            Conv2d-7            [-1, 256, 2, 2]         295,168\n",
            "       BatchNorm2d-8            [-1, 256, 2, 2]             512\n",
            "            Conv2d-9            [-1, 256, 2, 2]         590,080\n",
            "      BatchNorm2d-10            [-1, 256, 2, 2]             512\n",
            "  ConvTranspose2d-11            [-1, 256, 4, 4]         590,080\n",
            "      BatchNorm2d-12            [-1, 256, 4, 4]             512\n",
            "  ConvTranspose2d-13            [-1, 128, 8, 8]         442,496\n",
            "      BatchNorm2d-14            [-1, 128, 8, 8]             256\n",
            "  ConvTranspose2d-15           [-1, 64, 16, 16]         110,656\n",
            "      BatchNorm2d-16           [-1, 64, 16, 16]             128\n",
            "  ConvTranspose2d-17           [-1, 32, 32, 32]          27,680\n",
            "      BatchNorm2d-18           [-1, 32, 32, 32]              64\n",
            "  ConvTranspose2d-19            [-1, 3, 32, 32]             867\n",
            "  ConvTranspose2d-20            [-1, 256, 4, 4]         590,080\n",
            "      BatchNorm2d-21            [-1, 256, 4, 4]             512\n",
            "  ConvTranspose2d-22            [-1, 128, 8, 8]         442,496\n",
            "      BatchNorm2d-23            [-1, 128, 8, 8]             256\n",
            "  ConvTranspose2d-24           [-1, 64, 16, 16]         110,656\n",
            "      BatchNorm2d-25           [-1, 64, 16, 16]             128\n",
            "  ConvTranspose2d-26           [-1, 32, 32, 32]          27,680\n",
            "      BatchNorm2d-27           [-1, 32, 32, 32]              64\n",
            "  ConvTranspose2d-28            [-1, 3, 32, 32]             867\n",
            "================================================================\n",
            "Total params: 3,325,446\n",
            "Trainable params: 3,325,446\n",
            "Non-trainable params: 0\n",
            "----------------------------------------------------------------\n",
            "Input size (MB): 0.01\n",
            "Forward/backward pass size (MB): 2.17\n",
            "Params size (MB): 12.69\n",
            "Estimated Total Size (MB): 14.87\n",
            "----------------------------------------------------------------\n"
          ],
          "name": "stdout"
        },
        {
          "output_type": "stream",
          "text": [
            "/usr/local/lib/python3.7/dist-packages/torch/nn/functional.py:1698: UserWarning: nn.functional.tanh is deprecated. Use torch.tanh instead.\n",
            "  warnings.warn(\"nn.functional.tanh is deprecated. Use torch.tanh instead.\")\n"
          ],
          "name": "stderr"
        }
      ]
    },
    {
      "cell_type": "code",
      "metadata": {
        "id": "13cmGhx1WEws"
      },
      "source": [
        "#Available pre-trained model. Run this block to download a pretrained model\n",
        "if not os.path.exists('./PretrainModels'):\n",
        "    os.mkdir('./PretrainModels')"
      ],
      "execution_count": 40,
      "outputs": []
    },
    {
      "cell_type": "code",
      "metadata": {
        "colab": {
          "base_uri": "https://localhost:8080/",
          "height": 1000
        },
        "id": "fOGyoKDCa6Jc",
        "outputId": "062de2a0-c309-4991-e594-be54f12ea1b9"
      },
      "source": [
        "# Testing \n",
        "\n",
        "#Please change accordingly\n",
        "\n",
        "#uncomment if downloaded a pretrained model\n",
        "model.load_state_dict(torch.load('./PretrainModels/AE_model_50.pth'))\n",
        "# model.load_state_dict(torch.load('./PretrainModels/2DecodersSSIM_epoch400.pth'))\n",
        "\n",
        "#uncomment if not downloaded a pretrained model\n",
        "# model.load_state_dict(torch.load('./PretrainModels/AE_model_1.pth'))\n",
        "\n",
        "\n",
        "model.eval()\n",
        "\n",
        "\n",
        "#initialization\n",
        "Evaluate(test_dataloader, model, True)\n",
        "\n"
      ],
      "execution_count": 43,
      "outputs": [
        {
          "output_type": "stream",
          "text": [
            "  0%|          | 0/10000 [00:00<?, ?it/s]/usr/local/lib/python3.7/dist-packages/torch/nn/functional.py:1698: UserWarning: nn.functional.tanh is deprecated. Use torch.tanh instead.\n",
            "  warnings.warn(\"nn.functional.tanh is deprecated. Use torch.tanh instead.\")\n",
            "  5%|▍         | 484/10000 [00:01<00:30, 313.07it/s]"
          ],
          "name": "stderr"
        },
        {
          "output_type": "display_data",
          "data": {
            "image/png": "[encoded data removed]",
            "text/plain": [
              "<PIL.Image.Image image mode=RGB size=70x36 at 0x7F5D28506790>"
            ]
          },
          "metadata": {
            "tags": []
          }
        },
        {
          "output_type": "stream",
          "text": [
            " 10%|▉         | 973/10000 [00:03<00:28, 316.44it/s]"
          ],
          "name": "stderr"
        },
        {
          "output_type": "display_data",
          "data": {
            "image/png": "[encoded data removed]",
            "text/plain": [
              "<PIL.Image.Image image mode=RGB size=70x36 at 0x7F5D285066D0>"
            ]
          },
          "metadata": {
            "tags": []
          }
        },
        {
          "output_type": "stream",
          "text": [
            " 15%|█▍        | 1494/10000 [00:04<00:26, 322.96it/s]"
          ],
          "name": "stderr"
        },
        {
          "output_type": "display_data",
          "data": {
            "image/png": "[encoded data removed]",
            "text/plain": [
              "<PIL.Image.Image image mode=RGB size=70x36 at 0x7F5D2850EF90>"
            ]
          },
          "metadata": {
            "tags": []
          }
        },
        {
          "output_type": "stream",
          "text": [
            " 20%|█▉        | 1988/10000 [00:06<00:25, 310.33it/s]"
          ],
          "name": "stderr"
        },
        {
          "output_type": "display_data",
          "data": {
            "image/png": "[encoded data removed]",
            "text/plain": [
              "<PIL.Image.Image image mode=RGB size=70x36 at 0x7F5D28512710>"
            ]
          },
          "metadata": {
            "tags": []
          }
        },
        {
          "output_type": "stream",
          "text": [
            " 25%|██▍       | 2487/10000 [00:07<00:23, 325.77it/s]"
          ],
          "name": "stderr"
        },
        {
          "output_type": "display_data",
          "data": {
            "image/png": "[encoded data removed]",
            "text/plain": [
              "<PIL.Image.Image image mode=RGB size=70x36 at 0x7F5CCB148AD0>"
            ]
          },
          "metadata": {
            "tags": []
          }
        },
        {
          "output_type": "stream",
          "text": [
            " 30%|██▉       | 2983/10000 [00:09<00:22, 312.32it/s]"
          ],
          "name": "stderr"
        },
        {
          "output_type": "display_data",
          "data": {
            "image/png": "[encoded data removed]",
            "text/plain": [
              "<PIL.Image.Image image mode=RGB size=70x36 at 0x7F5CCBE25E10>"
            ]
          },
          "metadata": {
            "tags": []
          }
        },
        {
          "output_type": "stream",
          "text": [
            " 35%|███▍      | 3469/10000 [00:10<00:20, 319.58it/s]"
          ],
          "name": "stderr"
        },
        {
          "output_type": "display_data",
          "data": {
            "image/png": "[encoded data removed]",
            "text/plain": [
              "<PIL.Image.Image image mode=RGB size=70x36 at 0x7F5CCBE0F6D0>"
            ]
          },
          "metadata": {
            "tags": []
          }
        },
        {
          "output_type": "stream",
          "text": [
            " 40%|███▉      | 3988/10000 [00:12<00:19, 316.39it/s]"
          ],
          "name": "stderr"
        },
        {
          "output_type": "display_data",
          "data": {
            "image/png": "[encoded data removed]",
            "text/plain": [
              "<PIL.Image.Image image mode=RGB size=70x36 at 0x7F5D28512750>"
            ]
          },
          "metadata": {
            "tags": []
          }
        },
        {
          "output_type": "stream",
          "text": [
            " 45%|████▍     | 4474/10000 [00:14<00:17, 307.04it/s]"
          ],
          "name": "stderr"
        },
        {
          "output_type": "display_data",
          "data": {
            "image/png": "[encoded data removed]",
            "text/plain": [
              "<PIL.Image.Image image mode=RGB size=70x36 at 0x7F5CCB155A10>"
            ]
          },
          "metadata": {
            "tags": []
          }
        },
        {
          "output_type": "stream",
          "text": [
            " 50%|████▉     | 4992/10000 [00:15<00:15, 315.80it/s]"
          ],
          "name": "stderr"
        },
        {
          "output_type": "display_data",
          "data": {
            "image/png": "[encoded data removed]",
            "text/plain": [
              "<PIL.Image.Image image mode=RGB size=70x36 at 0x7F5D28512710>"
            ]
          },
          "metadata": {
            "tags": []
          }
        },
        {
          "output_type": "stream",
          "text": [
            " 55%|█████▍    | 5477/10000 [00:17<00:14, 322.00it/s]"
          ],
          "name": "stderr"
        },
        {
          "output_type": "display_data",
          "data": {
            "image/png": "[encoded data removed]",
            "text/plain": [
              "<PIL.Image.Image image mode=RGB size=70x36 at 0x7F5D2839F650>"
            ]
          },
          "metadata": {
            "tags": []
          }
        },
        {
          "output_type": "stream",
          "text": [
            " 60%|█████▉    | 5999/10000 [00:18<00:12, 320.50it/s]"
          ],
          "name": "stderr"
        },
        {
          "output_type": "display_data",
          "data": {
            "image/png": "[encoded data removed]",
            "text/plain": [
              "<PIL.Image.Image image mode=RGB size=70x36 at 0x7F5CCB155990>"
            ]
          },
          "metadata": {
            "tags": []
          }
        },
        {
          "output_type": "stream",
          "text": [
            " 65%|██████▍   | 6489/10000 [00:20<00:11, 308.33it/s]"
          ],
          "name": "stderr"
        },
        {
          "output_type": "display_data",
          "data": {
            "image/png": "[encoded data removed]",
            "text/plain": [
              "<PIL.Image.Image image mode=RGB size=70x36 at 0x7F5CCB268BD0>"
            ]
          },
          "metadata": {
            "tags": []
          }
        },
        {
          "output_type": "stream",
          "text": [
            " 70%|██████▉   | 6975/10000 [00:22<00:09, 314.18it/s]"
          ],
          "name": "stderr"
        },
        {
          "output_type": "display_data",
          "data": {
            "image/png": "[encoded data removed]",
            "text/plain": [
              "<PIL.Image.Image image mode=RGB size=70x36 at 0x7F5D2839F650>"
            ]
          },
          "metadata": {
            "tags": []
          }
        },
        {
          "output_type": "stream",
          "text": [
            " 75%|███████▍  | 7490/10000 [00:23<00:08, 310.06it/s]"
          ],
          "name": "stderr"
        },
        {
          "output_type": "display_data",
          "data": {
            "image/png": "[encoded data removed]",
            "text/plain": [
              "<PIL.Image.Image image mode=RGB size=70x36 at 0x7F5D28509710>"
            ]
          },
          "metadata": {
            "tags": []
          }
        },
        {
          "output_type": "stream",
          "text": [
            " 80%|███████▉  | 7971/10000 [00:25<00:06, 306.24it/s]"
          ],
          "name": "stderr"
        },
        {
          "output_type": "display_data",
          "data": {
            "image/png": "[encoded data removed]",
            "text/plain": [
              "<PIL.Image.Image image mode=RGB size=70x36 at 0x7F5CCB148C10>"
            ]
          },
          "metadata": {
            "tags": []
          }
        },
        {
          "output_type": "stream",
          "text": [
            " 85%|████████▍ | 8491/10000 [00:26<00:04, 320.63it/s]"
          ],
          "name": "stderr"
        },
        {
          "output_type": "display_data",
          "data": {
            "image/png": "[encoded data removed]",
            "text/plain": [
              "<PIL.Image.Image image mode=RGB size=70x36 at 0x7F5D2850E910>"
            ]
          },
          "metadata": {
            "tags": []
          }
        },
        {
          "output_type": "stream",
          "text": [
            " 90%|████████▉ | 8980/10000 [00:28<00:03, 321.40it/s]"
          ],
          "name": "stderr"
        },
        {
          "output_type": "display_data",
          "data": {
            "image/png": "[encoded data removed]",
            "text/plain": [
              "<PIL.Image.Image image mode=RGB size=70x36 at 0x7F5CCB148910>"
            ]
          },
          "metadata": {
            "tags": []
          }
        },
        {
          "output_type": "stream",
          "text": [
            " 95%|█████████▍| 9485/10000 [00:30<00:01, 308.58it/s]"
          ],
          "name": "stderr"
        },
        {
          "output_type": "display_data",
          "data": {
            "image/png": "[encoded data removed]",
            "text/plain": [
              "<PIL.Image.Image image mode=RGB size=70x36 at 0x7F5D28512750>"
            ]
          },
          "metadata": {
            "tags": []
          }
        },
        {
          "output_type": "stream",
          "text": [
            "100%|█████████▉| 9996/10000 [00:31<00:00, 299.88it/s]"
          ],
          "name": "stderr"
        },
        {
          "output_type": "display_data",
          "data": {
            "image/png": "[encoded data removed]",
            "text/plain": [
              "<PIL.Image.Image image mode=RGB size=70x36 at 0x7F5CCB268BD0>"
            ]
          },
          "metadata": {
            "tags": []
          }
        },
        {
          "output_type": "stream",
          "text": [
            "\r100%|██████████| 10000/10000 [00:31<00:00, 313.68it/s]"
          ],
          "name": "stderr"
        },
        {
          "output_type": "stream",
          "text": [
            "\n",
            "\n",
            "MSE :0.0001, PSNR: :42.4769, SSIM: :0.9972\n",
            "\n",
            "\n"
          ],
          "name": "stdout"
        },
        {
          "output_type": "stream",
          "text": [
            "\n"
          ],
          "name": "stderr"
        }
      ]
    }
  ]
}