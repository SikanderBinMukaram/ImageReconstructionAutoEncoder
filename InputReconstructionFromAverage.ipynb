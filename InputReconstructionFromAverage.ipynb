{
  "nbformat": 4,
  "nbformat_minor": 0,
  "metadata": {
    "colab": {
      "name": "InputReconstructionFromAverage.ipynb",
      "provenance": [],
      "toc_visible": true,
      "authorship_tag": "ABX9TyN42JliyFpN7xAK5gGFXF1P",
      "include_colab_link": true
    },
    "kernelspec": {
      "name": "python3",
      "display_name": "Python 3"
    },
    "language_info": {
      "name": "python"
    }
  },
  "cells": [
    {
      "cell_type": "markdown",
      "metadata": {
        "id": "view-in-github",
        "colab_type": "text"
      },
      "source": [
        "<a href=\"https://colab.research.google.com/github/SikanderBinMukaram/ImageReconstructionAutoEncoder/blob/main/InputReconstructionFromAverage.ipynb\" target=\"_parent\"><img src=\"https://colab.research.google.com/assets/colab-badge.svg\" alt=\"Open In Colab\"/></a>"
      ]
    },
    {
      "cell_type": "markdown",
      "metadata": {
        "id": "m2BC39GCjDyj"
      },
      "source": [
        "# **Reconstruction of input Images from the Average**\n",
        "\n",
        "*   Task: Average two images from CIFAR10 dataset and reconstruct the input images.\n",
        "* I tried using single decoder for CIFAR10, but couldn't get good results. \n",
        "* I tried training with MSE loss just but the results were not good.\n",
        "* Also I tried available models from different github directories to check if we can get any results to seperate images (tried variational autoencoder for mnist to check if I can seperate an average image)\n",
        "* Tried Deep models like vgg & resnet for random images (not CIFAR and code was available on github just did it for checking if deep networks work) but couldn't get any good results. \n",
        "* Didn't try GAN's but came over a stackoverflow where there was mentioned that this wasn't helping either.\n",
        "* Lastly I tried 2 decoders and single encoder, results were not good for MSE but were good for combination of SSIM and L1 Loss. \n",
        "* Here is the final code for training, validating and testing a 2 decoder model for the given task. \n",
        "* I have also provided a link to a pre-trained model which could be directly used for Evaluation. \n",
        "* For a pretrained model for 400 epochs I got: MSE :0.0323, PSNR: :15.3428, SSIM: :0.5799\n",
        "* For a pretrained model for 100 epochs I got: MSE :0.0313, PSNR: :15.5046, SSIM: :0.5985\n",
        "\n",
        "\n",
        "* Added comments to code\n",
        "* Showed the evaluation examples. The output image has 5 images i.e\n",
        "      Average Image | Input 1 | Reconstructed Input 1 | Input 2 | Reconstructed Input 2\n",
        "\n",
        "\n",
        "\n"
      ]
    },
    {
      "cell_type": "markdown",
      "metadata": {
        "id": "qlpYNtmijWgi"
      },
      "source": [
        "##Imports"
      ]
    },
    {
      "cell_type": "code",
      "metadata": {
        "id": "ddHPSeWq98ec"
      },
      "source": [
        "#imports\n",
        "import os\n",
        "import torch\n",
        "import gdown \n",
        "import torchvision\n",
        "import numpy as np\n",
        "from torch import nn\n",
        "from tqdm import tqdm\n",
        "# !pip install pytorch_msssim\n",
        "from pytorch_msssim import ssim\n",
        "import torch.nn.functional as F\n",
        "from torchsummary import summary\n",
        "from torchvision import transforms\n",
        "from torch.autograd import Variable\n",
        "from torch.utils.data import DataLoader\n",
        "from torchvision.utils import save_image\n",
        "from torchvision.datasets import CIFAR10\n",
        "from torch.utils.data.sampler import SubsetRandomSampler\n",
        "from skimage.metrics import structural_similarity as ssimm\n",
        "import cv2\n",
        "from google.colab.patches import cv2_imshow\n",
        "\n"
      ],
      "execution_count": null,
      "outputs": []
    },
    {
      "cell_type": "code",
      "metadata": {
        "id": "CpDXLOiy-N8o"
      },
      "source": [
        "# os.environ[\"CUDA_VISIBLE_DEVICES\"]=\"1\" #using specific gpu"
      ],
      "execution_count": null,
      "outputs": []
    },
    {
      "cell_type": "code",
      "metadata": {
        "id": "rZDIrCt_-W5w"
      },
      "source": [
        "#Directory for saving intermediate images & models\n",
        "if not os.path.exists('./ssim2Decoders'):\n",
        "    os.mkdir('./ssim2Decoders')"
      ],
      "execution_count": null,
      "outputs": []
    },
    {
      "cell_type": "markdown",
      "metadata": {
        "id": "nuXY9O2BjpaQ"
      },
      "source": [
        "##Model \n",
        "An autoencoder with two decoders, one for each output."
      ]
    },
    {
      "cell_type": "code",
      "metadata": {
        "id": "xIexkEeS-nQB"
      },
      "source": [
        "#Model & Functions\n",
        "\n",
        "#image values are clamped in range of 0 & 1 to get rid of negative values \n",
        "def to_img(x):\n",
        "    x = 0.5 * (x + 1)\n",
        "    x = x.clamp(0, 1)\n",
        "    x = x.view(x.size(0), 3, 32, 32)\n",
        "    return x\n",
        "\n",
        "\n",
        "class Autoencoder_2decoders(nn.Module):\n",
        "    def __init__(self):\n",
        "        super(Autoencoder_2decoders,self).__init__()\n",
        "\n",
        "        #encoder layers\n",
        "        self.conv_1 = nn.Conv2d(3, 32, 3, stride=2, padding=1)\n",
        "        self.batchNorm1 = nn.BatchNorm2d(32)\n",
        "\n",
        "        self.conv_2 = nn.Conv2d(32, 64, 3, stride=2, padding=1)\n",
        "        self.batchNorm2 = nn.BatchNorm2d(64)\n",
        "\n",
        "        self.conv_3 = nn.Conv2d(64, 128, 3, stride=2, padding=1)\n",
        "        self.batchNorm3 = nn.BatchNorm2d(128)\n",
        "\n",
        "        self.conv_4 = nn.Conv2d(128, 256, 3, stride=2, padding=1)\n",
        "        self.batchNorm4 = nn.BatchNorm2d(256)\n",
        "\n",
        "        self.conv_5 = nn.Conv2d(256, 256, 3, stride=1, padding=1)\n",
        "        self.batchNorm5 = nn.BatchNorm2d(256)\n",
        "\n",
        "\n",
        "        # decoder 1 layers\n",
        "        self.deconv_1_d1 = nn.ConvTranspose2d(256, 256, 3, stride=2, padding=1, output_padding=1)\n",
        "        self.batchNorm1_d1 = nn.BatchNorm2d(256)\n",
        "        \n",
        "        self.deconv_2_d1 = nn.ConvTranspose2d(256+128, 128, 3, stride=2, padding=1, output_padding=1)\n",
        "        self.batchNorm2_d1 = nn.BatchNorm2d(128)\n",
        "        \n",
        "        self.deconv_3_d1 = nn.ConvTranspose2d(128+64, 64, 3, stride=2, padding=1, output_padding=1)\n",
        "        self.batchNorm3_d1 = nn.BatchNorm2d(64)\n",
        "        \n",
        "        self.deconv_4_d1 = nn.ConvTranspose2d(64+32, 32, 3, stride=2, padding=1, output_padding=1)\n",
        "        self.batchNorm4_d1 = nn.BatchNorm2d(32)\n",
        "        \n",
        "        self.deconv_5_d1 = nn.ConvTranspose2d(32, 3, 3,  padding=1)\n",
        "\n",
        "\n",
        "        # decoder 1 layers\n",
        "        self.deconv_1_d2 = nn.ConvTranspose2d(256, 256, 3, stride=2, padding=1, output_padding=1)\n",
        "        self.batchNorm1_d2 = nn.BatchNorm2d(256)\n",
        "        \n",
        "        self.deconv_2_d2 = nn.ConvTranspose2d(256+128, 128, 3, stride=2, padding=1, output_padding=1)\n",
        "        self.batchNorm2_d2 = nn.BatchNorm2d(128)\n",
        "        \n",
        "        self.deconv_3_d2 = nn.ConvTranspose2d(128+64, 64, 3, stride=2, padding=1, output_padding=1)\n",
        "        self.batchNorm3_d2 = nn.BatchNorm2d(64)\n",
        "        \n",
        "        self.deconv_4_d2 = nn.ConvTranspose2d(64+32, 32, 3, stride=2, padding=1, output_padding=1)\n",
        "        self.batchNorm4_d2 = nn.BatchNorm2d(32)\n",
        "        \n",
        "        self.deconv_5_d2 = nn.ConvTranspose2d(32, 3, 3,  padding=1)\n",
        "\n",
        "    def forward(self, x):\n",
        "      #encoder\n",
        "       conv_b1 = F.relu(self.batchNorm1(self.conv_1(x))) # will be used as Skip connection 1\n",
        "       conv_b2 = F.relu(self.batchNorm2(self.conv_2(conv_b1))) # will be used as Skip connection 2\n",
        "       conv_b3 = F.relu(self.batchNorm3(self.conv_3(conv_b2)))  # will be used as Skip connection 3 \n",
        "       conv_b4 = F.relu(self.batchNorm4(self.conv_4(conv_b3))) \n",
        "       conv_b5 = F.relu(self.batchNorm5(self.conv_5(conv_b4)))\n",
        "\n",
        "      #decoder 1\n",
        "       deconv_b1_d1 = F.relu(self.batchNorm1_d1(self.deconv_1_d1(conv_b5)))\n",
        "       concat_1_d1 = torch.cat((deconv_b1_d1, conv_b3),1)                   # Skip connection 3\n",
        "\n",
        "       deconv_b2_d1 = F.relu(self.batchNorm2_d1(self.deconv_2_d1(concat_1_d1)))\n",
        "       concat_2_d1 = torch.cat((deconv_b2_d1, conv_b2),1)                   # Skip connection 2\n",
        "\n",
        "       deconv_b3_d1 = F.relu(self.batchNorm3_d1(self.deconv_3_d1(concat_2_d1)))\n",
        "       concat_3_d1 = torch.cat((deconv_b3_d1, conv_b1),1)                   # Skip connection 1\n",
        "\n",
        "       deconv_b4_d1 = F.relu(self.batchNorm4_d1(self.deconv_4_d1(concat_3_d1)))\n",
        "\n",
        "       deconv_b5_d1 = F.tanh(  self.deconv_5_d1(deconv_b4_d1))\n",
        "       \n",
        "      #decoder 2\n",
        "       deconv_b1_d2 = F.relu(self.batchNorm1_d2(self.deconv_1_d2(conv_b5)))\n",
        "       concat_1_d2 = torch.cat((deconv_b1_d2, conv_b3),1)                   # Skip connection 3\n",
        "       \n",
        "       deconv_b2_d2 = F.relu(self.batchNorm2_d2(self.deconv_2_d2(concat_1_d2)))\n",
        "       concat_2_d2 = torch.cat((deconv_b2_d2, conv_b2),1)                   # Skip connection 2\n",
        "\n",
        "       deconv_b3_d2 = F.relu(self.batchNorm3_d2(self.deconv_3_d2(concat_2_d2)))\n",
        "       concat_3_d2 = torch.cat((deconv_b3_d2, conv_b1),1)                   # Skip connection 1\n",
        "\n",
        "       deconv_b4_d2 = F.relu(self.batchNorm4_d2(self.deconv_4_d2(concat_3_d2)))\n",
        "\n",
        "       deconv_b5_d2 = F.tanh(  self.deconv_5_d2(deconv_b4_d2))\n",
        "       \n",
        "       return deconv_b5_d1, deconv_b5_d2      # We get two outputs, one from each decoder\n",
        "\n",
        "\n",
        "\n"
      ],
      "execution_count": null,
      "outputs": []
    },
    {
      "cell_type": "markdown",
      "metadata": {
        "id": "_9TRg-koNiK0"
      },
      "source": [
        "##Function for Evaluation and Validation"
      ]
    },
    {
      "cell_type": "code",
      "metadata": {
        "id": "scStLDGlNpIB"
      },
      "source": [
        "\n",
        "# pass true when testing else false for validation\n",
        "def Evaluate(dataloader_, model, isTest):\n",
        "\n",
        "  MSE = nn.MSELoss()  #define mean square error loss\n",
        "\n",
        "  sample_idx = 0      # samples to store or show\n",
        "  total_mse = 0       # total mse error\n",
        "  total_ssim = 0      # total structure similarity error\n",
        "  total_psnr = 0      # total PSNR error\n",
        "\n",
        "  for data in tqdm(dataloader_, position=0, leave=True):\n",
        "      batch, _ = data       # Get a batch\n",
        "\n",
        "      # split batch into 2, We then average corresponding images \n",
        "      # from each split to have an average input\n",
        "      input1 = batch[0:1]\n",
        "      input2 = batch[1:]\n",
        "      \n",
        "      # Average images to be used as input to our model\n",
        "      avg_input = (input1+input2) / 2 \n",
        "\n",
        "\n",
        "      avg_input = (avg_input).cuda()\n",
        "      input1 = (input1).cuda()\n",
        "      input2 = (input2).cuda()\n",
        "\n",
        "      # ===================forward=====================\n",
        "      # with torch.no_grad():\n",
        "      output1, output2 = model(avg_input)   #we get two outputs from the models which will be used for evaluation\n",
        "\n",
        "      #Normalise the images to have positive values between 0 & 1\n",
        "      out1 = to_img(output1.cpu().data)\n",
        "      in1  = to_img(input1.cpu().data)\n",
        "      out2 = to_img(output2.cpu().data)\n",
        "      in2  = to_img(input2.cpu().data)\n",
        "\n",
        "      # we check if the output 1 is more closer to input 1 or input 2\n",
        "      mse_t1 = MSE(out1,in1)\n",
        "      mse_t2 = MSE(out1,in2)\n",
        "            \n",
        "      # If output is more closer to input 1, we get a reconstructed input 1 at output 1\n",
        "      if mse_t2 > mse_t1:\n",
        "\n",
        "        #MSE \n",
        "        mse_in1 = mse_t1\n",
        "        mse_in2 = MSE(out2,in2)\n",
        "        mse = mse_in1 + mse_in2\n",
        "\n",
        "        #PSNR\n",
        "        psnr_in1 = 10 * torch.log10(1 / mse_in1)\n",
        "        psnr_in2 = 10 * torch.log10(1 / mse_in2)\n",
        "        psnr = psnr_in1 + psnr_in2\n",
        "        \n",
        "\n",
        "        #SSIM -  for ssim, I had to make changes to the dimensions in \n",
        "        #order to use the ssim function provided by skimage.metrics\n",
        "        out1,out2 = np.moveaxis(np.squeeze(out1.detach().numpy()), 0, -1),np.moveaxis(np.squeeze(out2.detach().numpy()), 0, -1)\n",
        "        in1 , in2 = np.moveaxis(np.squeeze(in1.detach().numpy()), 0, -1),np.moveaxis(np.squeeze(in2.detach().numpy()), 0, -1)\n",
        "        ssim_n1 = ssimm(out1, in1, multichannel=True)\n",
        "        ssim_n2 = ssimm(out2, in2, multichannel=True)\n",
        "        ssim = ssim_n1 + ssim_n2\n",
        "\n",
        "      else:\n",
        "\n",
        "        # Else if output 1 is more similar to input 2, we get reconstrcted input 1 at output 2\n",
        "        #MSE \n",
        "        mse_in1 = mse_t2\n",
        "        mse_in2 = MSE(out2,in1)\n",
        "        mse = mse_in1 + mse_in2\n",
        "\n",
        "        #PSNR\n",
        "        psnr_in1 = 10 * torch.log10(1 / mse_in1)\n",
        "        psnr_in2 = 10 * torch.log10(1 / mse_in2)\n",
        "        psnr = psnr_in1 + psnr_in2\n",
        "\n",
        "        #SSIM -  for ssim, I had to make changes to the dimensions in \n",
        "        #order to use the ssim function provided by skimage.metrics\n",
        "        out1,out2 = np.moveaxis(np.squeeze(out1.detach().numpy()), 0, -1),np.moveaxis(np.squeeze(out2.detach().numpy()), 0, -1)\n",
        "        in1 , in2 = np.moveaxis(np.squeeze(in1.detach().numpy()), 0, -1),np.moveaxis(np.squeeze(in2.detach().numpy()), 0, -1)       \n",
        "        ssim_n1 = ssimm(out1, in2, multichannel=True)\n",
        "        ssim_n2 = ssimm(out2, in1, multichannel=True)\n",
        "        ssim = ssim_n1 + ssim_n2\n",
        "            \n",
        "      total_mse += mse\n",
        "      total_psnr+= psnr \n",
        "      total_ssim+= ssim\n",
        "\n",
        "      if isTest:\n",
        "        #save & show samples for evaluation\n",
        "        sample_idx+=1\n",
        "        if sample_idx % 300 == 0:\n",
        "          # Checking if output1 is similar to input 1 or input 2\n",
        "          if mse_t2 > mse_t1:\n",
        "            out = torch.cat((avg_input,input1,output1,input2,output2),0)\n",
        "          else:\n",
        "            out = torch.cat((avg_input,input1,output2,input2,output1),0)\n",
        "          out = to_img(out.cpu().data)\n",
        "          save_image(out, './ssim2Decoders/Test_image_out1_{}.png'.format(sample_idx))\n",
        "          example = cv2.imread('./ssim2Decoders/Test_image_out1_{}.png'.format(sample_idx), cv2.IMREAD_UNCHANGED)\n",
        "          cv2_imshow(example)            \n",
        "\n",
        "  print('\\n\\nMSE :{:.4f}, PSNR: :{:.4f}, SSIM: :{:.4f}\\n\\n'\n",
        "        .format(total_mse/len(test_dataloader)/2,total_psnr/len(test_dataloader)/2, total_ssim/len(test_dataloader)/2 ))"
      ],
      "execution_count": null,
      "outputs": []
    },
    {
      "cell_type": "markdown",
      "metadata": {
        "id": "GXCb4Vl9kFrA"
      },
      "source": [
        "##Hyperparameters"
      ]
    },
    {
      "cell_type": "code",
      "metadata": {
        "id": "V0k2I80j_7u2"
      },
      "source": [
        "#Hyperparameters\n",
        "\n",
        "num_epochs = 50 #400\n",
        "batch_size = 8\n",
        "learning_rate = 1e-3\n"
      ],
      "execution_count": null,
      "outputs": []
    },
    {
      "cell_type": "markdown",
      "metadata": {
        "id": "fyPRMA3zkOXt"
      },
      "source": [
        "##Dataloaders"
      ]
    },
    {
      "cell_type": "code",
      "metadata": {
        "colab": {
          "base_uri": "https://localhost:8080/"
        },
        "id": "B6EfOMs1A0h0",
        "outputId": "74bd5d68-23c2-4ddd-8eb0-70242c571d9e"
      },
      "source": [
        "#Data Loaders\n",
        "#image transformations\n",
        "img_transform = transforms.Compose([\n",
        "    transforms.ToTensor(),\n",
        "    transforms.Normalize((0.5), (0.5), (0.5))\n",
        "])\n",
        "\n",
        "#training & validation data\n",
        "train_dataset = CIFAR10('../data/', train=True, download=True, transform=img_transform)\n",
        "valid_dataset = CIFAR10('../data/', train=True, download=True, transform=img_transform)\n",
        "\n",
        "#Spliting into validation and training datasets\n",
        "# we don't have a direct method to get validation dataset so I had \n",
        "# to split the training data myself using  SubsetRandomSampler\n",
        "valid_size = 0.1\n",
        "num_train = len(train_dataset)\n",
        "indices = list(range(num_train))\n",
        "split = int(np.floor(valid_size * num_train))\n",
        "train_idx, valid_idx = indices[split:], indices[:split]\n",
        "train_sampler = SubsetRandomSampler(train_idx)\n",
        "valid_sampler = SubsetRandomSampler(valid_idx)\n",
        "\n",
        "train_dataloader = DataLoader(train_dataset,batch_size=batch_size, sampler=train_sampler ,shuffle=False)\n",
        "valid_dataloader = DataLoader(train_dataset,batch_size=2, sampler=valid_sampler ,shuffle=False)\n",
        "\n",
        "#testing data\n",
        "test_dataset = CIFAR10('../data/', train=False, download=True, transform=img_transform)\n",
        "test_dataloader = DataLoader(test_dataset, batch_size=2, shuffle=False)"
      ],
      "execution_count": null,
      "outputs": [
        {
          "output_type": "stream",
          "text": [
            "Files already downloaded and verified\n",
            "Files already downloaded and verified\n",
            "Files already downloaded and verified\n"
          ],
          "name": "stdout"
        }
      ]
    },
    {
      "cell_type": "markdown",
      "metadata": {
        "id": "kNSISPVekTv2"
      },
      "source": [
        "##Using Pre-trained model"
      ]
    },
    {
      "cell_type": "code",
      "metadata": {
        "id": "YVjECr18CRji",
        "colab": {
          "base_uri": "https://localhost:8080/"
        },
        "outputId": "9ca9a555-64e0-4537-9cfd-e3951dc9b64a"
      },
      "source": [
        "#use a pretrained model if available else a New model\n",
        "\n",
        "model = Autoencoder_2decoders().cuda()\n",
        "\n",
        "if not os.path.exists('./PretrainModels'):\n",
        "    os.mkdir('./PretrainModels')\n",
        "\n",
        "#uncomment if finetuning with a pretrained model\n",
        "# else:\n",
        "#     model.load_state_dict(torch.load('./PretrainModels/AE_model_{}.pth'.format(num_epochs)))\n",
        "\n",
        "\n",
        "#check model parameters\n",
        "summary(model,(3,32,32))"
      ],
      "execution_count": null,
      "outputs": [
        {
          "output_type": "stream",
          "text": [
            "----------------------------------------------------------------\n",
            "        Layer (type)               Output Shape         Param #\n",
            "================================================================\n",
            "            Conv2d-1           [-1, 32, 16, 16]             896\n",
            "       BatchNorm2d-2           [-1, 32, 16, 16]              64\n",
            "            Conv2d-3             [-1, 64, 8, 8]          18,496\n",
            "       BatchNorm2d-4             [-1, 64, 8, 8]             128\n",
            "            Conv2d-5            [-1, 128, 4, 4]          73,856\n",
            "       BatchNorm2d-6            [-1, 128, 4, 4]             256\n",
            "            Conv2d-7            [-1, 256, 2, 2]         295,168\n",
            "       BatchNorm2d-8            [-1, 256, 2, 2]             512\n",
            "            Conv2d-9            [-1, 256, 2, 2]         590,080\n",
            "      BatchNorm2d-10            [-1, 256, 2, 2]             512\n",
            "  ConvTranspose2d-11            [-1, 256, 4, 4]         590,080\n",
            "      BatchNorm2d-12            [-1, 256, 4, 4]             512\n",
            "  ConvTranspose2d-13            [-1, 128, 8, 8]         442,496\n",
            "      BatchNorm2d-14            [-1, 128, 8, 8]             256\n",
            "  ConvTranspose2d-15           [-1, 64, 16, 16]         110,656\n",
            "      BatchNorm2d-16           [-1, 64, 16, 16]             128\n",
            "  ConvTranspose2d-17           [-1, 32, 32, 32]          27,680\n",
            "      BatchNorm2d-18           [-1, 32, 32, 32]              64\n",
            "  ConvTranspose2d-19            [-1, 3, 32, 32]             867\n",
            "  ConvTranspose2d-20            [-1, 256, 4, 4]         590,080\n",
            "      BatchNorm2d-21            [-1, 256, 4, 4]             512\n",
            "  ConvTranspose2d-22            [-1, 128, 8, 8]         442,496\n",
            "      BatchNorm2d-23            [-1, 128, 8, 8]             256\n",
            "  ConvTranspose2d-24           [-1, 64, 16, 16]         110,656\n",
            "      BatchNorm2d-25           [-1, 64, 16, 16]             128\n",
            "  ConvTranspose2d-26           [-1, 32, 32, 32]          27,680\n",
            "      BatchNorm2d-27           [-1, 32, 32, 32]              64\n",
            "  ConvTranspose2d-28            [-1, 3, 32, 32]             867\n",
            "================================================================\n",
            "Total params: 3,325,446\n",
            "Trainable params: 3,325,446\n",
            "Non-trainable params: 0\n",
            "----------------------------------------------------------------\n",
            "Input size (MB): 0.01\n",
            "Forward/backward pass size (MB): 2.17\n",
            "Params size (MB): 12.69\n",
            "Estimated Total Size (MB): 14.87\n",
            "----------------------------------------------------------------\n"
          ],
          "name": "stdout"
        },
        {
          "output_type": "stream",
          "text": [
            "/usr/local/lib/python3.7/dist-packages/torch/nn/functional.py:1698: UserWarning: nn.functional.tanh is deprecated. Use torch.tanh instead.\n",
            "  warnings.warn(\"nn.functional.tanh is deprecated. Use torch.tanh instead.\")\n"
          ],
          "name": "stderr"
        }
      ]
    },
    {
      "cell_type": "markdown",
      "metadata": {
        "id": "2HxLXvrgnqyb"
      },
      "source": [
        "##Losses Used"
      ]
    },
    {
      "cell_type": "code",
      "metadata": {
        "id": "t_ZtGvbLDkTg"
      },
      "source": [
        "#Loss used\n",
        "\n",
        "L1_loss = nn.L1Loss(reduction='sum')\n",
        "\n",
        "# SSIM Loss"
      ],
      "execution_count": null,
      "outputs": []
    },
    {
      "cell_type": "markdown",
      "metadata": {
        "id": "LfzSGDKtnvLD"
      },
      "source": [
        "##Optimizer"
      ]
    },
    {
      "cell_type": "code",
      "metadata": {
        "id": "HB-RjISQD3tn"
      },
      "source": [
        "#Optimizer\n",
        "optimizer = torch.optim.Adam(model.parameters(), lr=learning_rate,\n",
        "                             weight_decay=1e-5)"
      ],
      "execution_count": null,
      "outputs": []
    },
    {
      "cell_type": "markdown",
      "metadata": {
        "id": "5ZXMcMMPkrsM"
      },
      "source": [
        "##**Training**"
      ]
    },
    {
      "cell_type": "code",
      "metadata": {
        "colab": {
          "base_uri": "https://localhost:8080/"
        },
        "id": "-bUF1jmeEAE8",
        "outputId": "327e2c99-294b-403d-bad4-3b48245ce747"
      },
      "source": [
        "#Training\n",
        "\n",
        "for epoch in range(num_epochs):\n",
        "    total_loss = 0\n",
        "    for data in tqdm(train_dataloader, position=0, leave=True):\n",
        "        # Load the batch \n",
        "        batch, _ = data\n",
        "\n",
        "        # split batch into 2, and use corresponding images from the splits\n",
        "        # to get their average, which is used as an input to model\n",
        "        input1 = batch[0:batch_size//2]\n",
        "        input2 = batch[batch_size//2:]\n",
        "\n",
        "        # Average images\n",
        "        avg_input = (input1+input2) / 2 \n",
        "\n",
        "        avg_input = (avg_input).cuda()\n",
        "        input1 = (input1).cuda()\n",
        "        input2 = (input2).cuda()\n",
        "\n",
        "        # ===================forward=====================\n",
        "        # Average images are used as input and we get two outputs from the model.\n",
        "        # these outputs are then used to minimize different losses\n",
        "        output1, output2 = model(avg_input)\n",
        "\n",
        "        #L1 Loss between inputs and their corresponding outputs is minimized,\n",
        "        loss1 = L1_loss(output1,input1)\n",
        "        loss2 = L1_loss(output2,input2)\n",
        "        # We maximize the difference between output1 and output2 \n",
        "        loss3 = L1_loss(output2,output1)\n",
        "\n",
        "        #SSIM Loss\n",
        "        ssim_loss1 = 1 - ssim( output1, input1) # return a scalar\n",
        "        ssim_loss2 = 1 - ssim( output2, input2) # return a scalar\n",
        "\n",
        "        # Total Loss\n",
        "        # I used a combined loss comprising of L1 loss and weighted ssim loss\n",
        "        loss = loss1+loss2 + 0.85*ssim_loss1 + 0.85*ssim_loss2 - 0.1 * loss3 #working \n",
        "\n",
        "\n",
        "        # ===================backward====================\n",
        "        optimizer.zero_grad()\n",
        "        loss.backward()\n",
        "        optimizer.step()\n",
        "\n",
        "\n",
        "        # ===================log========================\n",
        "        total_loss += loss.data\n",
        "\n",
        "\n",
        "    print('\\nepoch [{}/{}], loss:{:.4f}\\n'\n",
        "          .format(epoch+1, num_epochs, total_loss/(len(train_dataloader))))\n",
        "    if (epoch+1) % 10 == 0:\n",
        "        out = torch.cat((avg_input,input1,output1,input2,output2),0)\n",
        "        #print(out.shape)\n",
        "        out = to_img(out.cpu().data)\n",
        "        #save output and input images\n",
        "        save_image(out, './ssim2Decoders/image_out_{}.png'.format(epoch+1))\n",
        "        #save model \n",
        "        torch.save(model.state_dict(), './PretrainModels/AE_model_{}.pth'.format(epoch+1))\n",
        "        print(\"\\nValidation...\")\n",
        "        Evaluate(valid_dataloader, model, False)\n"
      ],
      "execution_count": null,
      "outputs": [
        {
          "output_type": "stream",
          "text": [
            "  0%|          | 0/5625 [00:00<?, ?it/s]/usr/local/lib/python3.7/dist-packages/torch/nn/functional.py:1698: UserWarning: nn.functional.tanh is deprecated. Use torch.tanh instead.\n",
            "  warnings.warn(\"nn.functional.tanh is deprecated. Use torch.tanh instead.\")\n",
            "100%|██████████| 5625/5625 [01:23<00:00, 67.33it/s]\n",
            "  0%|          | 5/5625 [00:00<01:58, 47.35it/s]"
          ],
          "name": "stderr"
        },
        {
          "output_type": "stream",
          "text": [
            "\n",
            "epoch [1/50], loss:7726.6880\n",
            "\n"
          ],
          "name": "stdout"
        },
        {
          "output_type": "stream",
          "text": [
            "100%|██████████| 5625/5625 [01:23<00:00, 67.30it/s]\n",
            "  0%|          | 1/5625 [00:00<12:35,  7.44it/s]"
          ],
          "name": "stderr"
        },
        {
          "output_type": "stream",
          "text": [
            "\n",
            "epoch [2/50], loss:7725.0581\n",
            "\n"
          ],
          "name": "stdout"
        },
        {
          "output_type": "stream",
          "text": [
            "100%|██████████| 5625/5625 [01:23<00:00, 67.26it/s]\n",
            "  0%|          | 5/5625 [00:00<01:56, 48.04it/s]"
          ],
          "name": "stderr"
        },
        {
          "output_type": "stream",
          "text": [
            "\n",
            "epoch [3/50], loss:7714.9937\n",
            "\n"
          ],
          "name": "stdout"
        },
        {
          "output_type": "stream",
          "text": [
            "100%|██████████| 5625/5625 [01:24<00:00, 66.80it/s]\n",
            "  0%|          | 1/5625 [00:00<11:51,  7.90it/s]"
          ],
          "name": "stderr"
        },
        {
          "output_type": "stream",
          "text": [
            "\n",
            "epoch [4/50], loss:7739.7158\n",
            "\n"
          ],
          "name": "stdout"
        },
        {
          "output_type": "stream",
          "text": [
            "100%|██████████| 5625/5625 [01:23<00:00, 67.14it/s]\n",
            "  0%|          | 5/5625 [00:00<02:07, 44.17it/s]"
          ],
          "name": "stderr"
        },
        {
          "output_type": "stream",
          "text": [
            "\n",
            "epoch [5/50], loss:7721.9580\n",
            "\n"
          ],
          "name": "stdout"
        },
        {
          "output_type": "stream",
          "text": [
            "100%|██████████| 5625/5625 [01:23<00:00, 67.06it/s]\n",
            "  0%|          | 1/5625 [00:00<11:44,  7.98it/s]"
          ],
          "name": "stderr"
        },
        {
          "output_type": "stream",
          "text": [
            "\n",
            "epoch [6/50], loss:7742.3477\n",
            "\n"
          ],
          "name": "stdout"
        },
        {
          "output_type": "stream",
          "text": [
            "100%|██████████| 5625/5625 [01:23<00:00, 67.31it/s]\n",
            "  0%|          | 5/5625 [00:00<02:07, 43.93it/s]"
          ],
          "name": "stderr"
        },
        {
          "output_type": "stream",
          "text": [
            "\n",
            "epoch [7/50], loss:7726.0952\n",
            "\n"
          ],
          "name": "stdout"
        },
        {
          "output_type": "stream",
          "text": [
            "100%|██████████| 5625/5625 [01:24<00:00, 66.72it/s]\n",
            "  0%|          | 1/5625 [00:00<12:32,  7.47it/s]"
          ],
          "name": "stderr"
        },
        {
          "output_type": "stream",
          "text": [
            "\n",
            "epoch [8/50], loss:7731.3223\n",
            "\n"
          ],
          "name": "stdout"
        },
        {
          "output_type": "stream",
          "text": [
            "100%|██████████| 5625/5625 [01:24<00:00, 66.73it/s]\n",
            "  0%|          | 4/5625 [00:00<02:23, 39.24it/s]"
          ],
          "name": "stderr"
        },
        {
          "output_type": "stream",
          "text": [
            "\n",
            "epoch [9/50], loss:7717.2979\n",
            "\n"
          ],
          "name": "stdout"
        },
        {
          "output_type": "stream",
          "text": [
            "100%|██████████| 5625/5625 [01:24<00:00, 66.69it/s]\n",
            "  0%|          | 1/5625 [00:00<12:52,  7.28it/s]"
          ],
          "name": "stderr"
        },
        {
          "output_type": "stream",
          "text": [
            "\n",
            "epoch [10/50], loss:7732.5005\n",
            "\n"
          ],
          "name": "stdout"
        },
        {
          "output_type": "stream",
          "text": [
            "100%|██████████| 5625/5625 [01:23<00:00, 67.01it/s]\n",
            "  0%|          | 5/5625 [00:00<02:05, 44.82it/s]"
          ],
          "name": "stderr"
        },
        {
          "output_type": "stream",
          "text": [
            "\n",
            "epoch [11/50], loss:7702.7100\n",
            "\n"
          ],
          "name": "stdout"
        },
        {
          "output_type": "stream",
          "text": [
            "100%|██████████| 5625/5625 [01:24<00:00, 66.69it/s]\n",
            "  0%|          | 1/5625 [00:00<13:02,  7.18it/s]"
          ],
          "name": "stderr"
        },
        {
          "output_type": "stream",
          "text": [
            "\n",
            "epoch [12/50], loss:7731.7114\n",
            "\n"
          ],
          "name": "stdout"
        },
        {
          "output_type": "stream",
          "text": [
            "100%|██████████| 5625/5625 [01:25<00:00, 66.14it/s]\n",
            "  0%|          | 5/5625 [00:00<02:04, 45.04it/s]"
          ],
          "name": "stderr"
        },
        {
          "output_type": "stream",
          "text": [
            "\n",
            "epoch [13/50], loss:7748.1216\n",
            "\n"
          ],
          "name": "stdout"
        },
        {
          "output_type": "stream",
          "text": [
            "100%|██████████| 5625/5625 [01:26<00:00, 65.32it/s]\n",
            "  0%|          | 1/5625 [00:00<12:18,  7.61it/s]"
          ],
          "name": "stderr"
        },
        {
          "output_type": "stream",
          "text": [
            "\n",
            "epoch [14/50], loss:7724.5527\n",
            "\n"
          ],
          "name": "stdout"
        },
        {
          "output_type": "stream",
          "text": [
            "100%|██████████| 5625/5625 [01:24<00:00, 66.65it/s]\n",
            "  0%|          | 5/5625 [00:00<01:59, 47.10it/s]"
          ],
          "name": "stderr"
        },
        {
          "output_type": "stream",
          "text": [
            "\n",
            "epoch [15/50], loss:7714.6382\n",
            "\n"
          ],
          "name": "stdout"
        },
        {
          "output_type": "stream",
          "text": [
            "100%|██████████| 5625/5625 [01:24<00:00, 66.69it/s]\n",
            "  0%|          | 1/5625 [00:00<12:19,  7.60it/s]"
          ],
          "name": "stderr"
        },
        {
          "output_type": "stream",
          "text": [
            "\n",
            "epoch [16/50], loss:7761.1968\n",
            "\n"
          ],
          "name": "stdout"
        },
        {
          "output_type": "stream",
          "text": [
            "100%|██████████| 5625/5625 [01:24<00:00, 66.60it/s]\n",
            "  0%|          | 5/5625 [00:00<02:00, 46.82it/s]"
          ],
          "name": "stderr"
        },
        {
          "output_type": "stream",
          "text": [
            "\n",
            "epoch [17/50], loss:7728.9673\n",
            "\n"
          ],
          "name": "stdout"
        },
        {
          "output_type": "stream",
          "text": [
            "100%|██████████| 5625/5625 [01:24<00:00, 66.52it/s]\n",
            "  0%|          | 1/5625 [00:00<12:25,  7.55it/s]"
          ],
          "name": "stderr"
        },
        {
          "output_type": "stream",
          "text": [
            "\n",
            "epoch [18/50], loss:7738.6987\n",
            "\n"
          ],
          "name": "stdout"
        },
        {
          "output_type": "stream",
          "text": [
            "100%|██████████| 5625/5625 [01:24<00:00, 66.76it/s]\n",
            "  0%|          | 5/5625 [00:00<02:03, 45.52it/s]"
          ],
          "name": "stderr"
        },
        {
          "output_type": "stream",
          "text": [
            "\n",
            "epoch [19/50], loss:7734.0986\n",
            "\n"
          ],
          "name": "stdout"
        },
        {
          "output_type": "stream",
          "text": [
            "100%|██████████| 5625/5625 [01:24<00:00, 66.85it/s]\n",
            "  0%|          | 5/5625 [00:00<01:59, 46.95it/s]"
          ],
          "name": "stderr"
        },
        {
          "output_type": "stream",
          "text": [
            "\n",
            "epoch [20/50], loss:7738.9482\n",
            "\n"
          ],
          "name": "stdout"
        },
        {
          "output_type": "stream",
          "text": [
            "100%|██████████| 5625/5625 [01:24<00:00, 66.75it/s]\n",
            "  0%|          | 1/5625 [00:00<12:16,  7.64it/s]"
          ],
          "name": "stderr"
        },
        {
          "output_type": "stream",
          "text": [
            "\n",
            "epoch [21/50], loss:7735.0962\n",
            "\n"
          ],
          "name": "stdout"
        },
        {
          "output_type": "stream",
          "text": [
            "100%|██████████| 5625/5625 [01:24<00:00, 66.62it/s]\n",
            "  0%|          | 5/5625 [00:00<02:01, 46.08it/s]"
          ],
          "name": "stderr"
        },
        {
          "output_type": "stream",
          "text": [
            "\n",
            "epoch [22/50], loss:7727.2476\n",
            "\n"
          ],
          "name": "stdout"
        },
        {
          "output_type": "stream",
          "text": [
            "100%|██████████| 5625/5625 [01:24<00:00, 66.76it/s]\n",
            "  0%|          | 1/5625 [00:00<12:51,  7.29it/s]"
          ],
          "name": "stderr"
        },
        {
          "output_type": "stream",
          "text": [
            "\n",
            "epoch [23/50], loss:7749.3120\n",
            "\n"
          ],
          "name": "stdout"
        },
        {
          "output_type": "stream",
          "text": [
            "100%|██████████| 5625/5625 [01:24<00:00, 66.62it/s]\n",
            "  0%|          | 4/5625 [00:00<02:25, 38.58it/s]"
          ],
          "name": "stderr"
        },
        {
          "output_type": "stream",
          "text": [
            "\n",
            "epoch [24/50], loss:7725.1440\n",
            "\n"
          ],
          "name": "stdout"
        },
        {
          "output_type": "stream",
          "text": [
            "100%|██████████| 5625/5625 [01:24<00:00, 66.59it/s]\n",
            "  0%|          | 1/5625 [00:00<11:58,  7.83it/s]"
          ],
          "name": "stderr"
        },
        {
          "output_type": "stream",
          "text": [
            "\n",
            "epoch [25/50], loss:7715.9219\n",
            "\n"
          ],
          "name": "stdout"
        },
        {
          "output_type": "stream",
          "text": [
            "100%|██████████| 5625/5625 [01:24<00:00, 66.83it/s]\n",
            "  0%|          | 4/5625 [00:00<02:23, 39.18it/s]"
          ],
          "name": "stderr"
        },
        {
          "output_type": "stream",
          "text": [
            "\n",
            "epoch [26/50], loss:7725.5454\n",
            "\n"
          ],
          "name": "stdout"
        },
        {
          "output_type": "stream",
          "text": [
            "100%|██████████| 5625/5625 [01:24<00:00, 66.71it/s]\n",
            "  0%|          | 1/5625 [00:00<11:58,  7.83it/s]"
          ],
          "name": "stderr"
        },
        {
          "output_type": "stream",
          "text": [
            "\n",
            "epoch [27/50], loss:7734.4790\n",
            "\n"
          ],
          "name": "stdout"
        },
        {
          "output_type": "stream",
          "text": [
            "100%|██████████| 5625/5625 [01:24<00:00, 66.79it/s]\n",
            "  0%|          | 5/5625 [00:00<02:02, 45.76it/s]"
          ],
          "name": "stderr"
        },
        {
          "output_type": "stream",
          "text": [
            "\n",
            "epoch [28/50], loss:7747.9370\n",
            "\n"
          ],
          "name": "stdout"
        },
        {
          "output_type": "stream",
          "text": [
            "100%|██████████| 5625/5625 [01:24<00:00, 66.57it/s]\n",
            "  0%|          | 1/5625 [00:00<11:53,  7.88it/s]"
          ],
          "name": "stderr"
        },
        {
          "output_type": "stream",
          "text": [
            "\n",
            "epoch [29/50], loss:7723.9448\n",
            "\n"
          ],
          "name": "stdout"
        },
        {
          "output_type": "stream",
          "text": [
            "100%|██████████| 5625/5625 [01:24<00:00, 66.51it/s]\n",
            "  0%|          | 5/5625 [00:00<02:01, 46.27it/s]"
          ],
          "name": "stderr"
        },
        {
          "output_type": "stream",
          "text": [
            "\n",
            "epoch [30/50], loss:7740.3203\n",
            "\n"
          ],
          "name": "stdout"
        },
        {
          "output_type": "stream",
          "text": [
            "100%|██████████| 5625/5625 [01:24<00:00, 66.93it/s]\n",
            "  0%|          | 1/5625 [00:00<12:53,  7.27it/s]"
          ],
          "name": "stderr"
        },
        {
          "output_type": "stream",
          "text": [
            "\n",
            "epoch [31/50], loss:7740.4287\n",
            "\n"
          ],
          "name": "stdout"
        },
        {
          "output_type": "stream",
          "text": [
            "100%|██████████| 5625/5625 [01:24<00:00, 66.46it/s]\n",
            "  0%|          | 5/5625 [00:00<02:02, 45.95it/s]"
          ],
          "name": "stderr"
        },
        {
          "output_type": "stream",
          "text": [
            "\n",
            "epoch [32/50], loss:7733.0874\n",
            "\n"
          ],
          "name": "stdout"
        },
        {
          "output_type": "stream",
          "text": [
            "100%|██████████| 5625/5625 [01:24<00:00, 66.39it/s]\n",
            "  0%|          | 1/5625 [00:00<12:29,  7.50it/s]"
          ],
          "name": "stderr"
        },
        {
          "output_type": "stream",
          "text": [
            "\n",
            "epoch [33/50], loss:7736.9561\n",
            "\n"
          ],
          "name": "stdout"
        },
        {
          "output_type": "stream",
          "text": [
            "100%|██████████| 5625/5625 [01:24<00:00, 66.28it/s]\n",
            "  0%|          | 5/5625 [00:00<02:01, 46.26it/s]"
          ],
          "name": "stderr"
        },
        {
          "output_type": "stream",
          "text": [
            "\n",
            "epoch [34/50], loss:7714.2500\n",
            "\n"
          ],
          "name": "stdout"
        },
        {
          "output_type": "stream",
          "text": [
            "100%|██████████| 5625/5625 [01:27<00:00, 64.19it/s]\n",
            "  0%|          | 1/5625 [00:00<12:28,  7.51it/s]"
          ],
          "name": "stderr"
        },
        {
          "output_type": "stream",
          "text": [
            "\n",
            "epoch [35/50], loss:7704.2837\n",
            "\n"
          ],
          "name": "stdout"
        },
        {
          "output_type": "stream",
          "text": [
            "100%|██████████| 5625/5625 [01:26<00:00, 65.11it/s]\n",
            "  0%|          | 5/5625 [00:00<02:03, 45.46it/s]"
          ],
          "name": "stderr"
        },
        {
          "output_type": "stream",
          "text": [
            "\n",
            "epoch [36/50], loss:7717.8687\n",
            "\n"
          ],
          "name": "stdout"
        },
        {
          "output_type": "stream",
          "text": [
            "100%|██████████| 5625/5625 [01:24<00:00, 66.23it/s]\n",
            "  0%|          | 1/5625 [00:00<13:10,  7.12it/s]"
          ],
          "name": "stderr"
        },
        {
          "output_type": "stream",
          "text": [
            "\n",
            "epoch [37/50], loss:7729.1533\n",
            "\n"
          ],
          "name": "stdout"
        },
        {
          "output_type": "stream",
          "text": [
            "100%|██████████| 5625/5625 [01:25<00:00, 66.12it/s]\n",
            "  0%|          | 5/5625 [00:00<01:58, 47.32it/s]"
          ],
          "name": "stderr"
        },
        {
          "output_type": "stream",
          "text": [
            "\n",
            "epoch [38/50], loss:7704.0732\n",
            "\n"
          ],
          "name": "stdout"
        },
        {
          "output_type": "stream",
          "text": [
            "100%|██████████| 5625/5625 [01:24<00:00, 66.20it/s]\n",
            "  0%|          | 1/5625 [00:00<12:31,  7.49it/s]"
          ],
          "name": "stderr"
        },
        {
          "output_type": "stream",
          "text": [
            "\n",
            "epoch [39/50], loss:7734.8760\n",
            "\n"
          ],
          "name": "stdout"
        },
        {
          "output_type": "stream",
          "text": [
            "100%|██████████| 5625/5625 [01:24<00:00, 66.48it/s]\n",
            "  0%|          | 5/5625 [00:00<02:07, 44.15it/s]"
          ],
          "name": "stderr"
        },
        {
          "output_type": "stream",
          "text": [
            "\n",
            "epoch [40/50], loss:7747.0488\n",
            "\n"
          ],
          "name": "stdout"
        },
        {
          "output_type": "stream",
          "text": [
            "100%|██████████| 5625/5625 [01:24<00:00, 66.91it/s]\n",
            "  0%|          | 1/5625 [00:00<12:47,  7.32it/s]"
          ],
          "name": "stderr"
        },
        {
          "output_type": "stream",
          "text": [
            "\n",
            "epoch [41/50], loss:7748.1865\n",
            "\n"
          ],
          "name": "stdout"
        },
        {
          "output_type": "stream",
          "text": [
            "100%|██████████| 5625/5625 [01:24<00:00, 66.76it/s]\n",
            "  0%|          | 5/5625 [00:00<02:02, 46.02it/s]"
          ],
          "name": "stderr"
        },
        {
          "output_type": "stream",
          "text": [
            "\n",
            "epoch [42/50], loss:7733.5942\n",
            "\n"
          ],
          "name": "stdout"
        },
        {
          "output_type": "stream",
          "text": [
            "100%|██████████| 5625/5625 [01:24<00:00, 66.70it/s]\n",
            "  0%|          | 1/5625 [00:00<12:43,  7.37it/s]"
          ],
          "name": "stderr"
        },
        {
          "output_type": "stream",
          "text": [
            "\n",
            "epoch [43/50], loss:7729.1758\n",
            "\n"
          ],
          "name": "stdout"
        },
        {
          "output_type": "stream",
          "text": [
            "100%|██████████| 5625/5625 [01:24<00:00, 66.70it/s]\n",
            "  0%|          | 4/5625 [00:00<02:25, 38.60it/s]"
          ],
          "name": "stderr"
        },
        {
          "output_type": "stream",
          "text": [
            "\n",
            "epoch [44/50], loss:7707.1011\n",
            "\n"
          ],
          "name": "stdout"
        },
        {
          "output_type": "stream",
          "text": [
            "100%|██████████| 5625/5625 [01:24<00:00, 66.68it/s]\n",
            "  0%|          | 1/5625 [00:00<13:13,  7.08it/s]"
          ],
          "name": "stderr"
        },
        {
          "output_type": "stream",
          "text": [
            "\n",
            "epoch [45/50], loss:7717.2319\n",
            "\n"
          ],
          "name": "stdout"
        },
        {
          "output_type": "stream",
          "text": [
            "100%|██████████| 5625/5625 [01:24<00:00, 66.54it/s]\n",
            "  0%|          | 5/5625 [00:00<02:03, 45.46it/s]"
          ],
          "name": "stderr"
        },
        {
          "output_type": "stream",
          "text": [
            "\n",
            "epoch [46/50], loss:7725.2183\n",
            "\n"
          ],
          "name": "stdout"
        },
        {
          "output_type": "stream",
          "text": [
            "100%|██████████| 5625/5625 [01:24<00:00, 66.30it/s]\n",
            "  0%|          | 5/5625 [00:00<02:03, 45.38it/s]"
          ],
          "name": "stderr"
        },
        {
          "output_type": "stream",
          "text": [
            "\n",
            "epoch [47/50], loss:7715.1602\n",
            "\n"
          ],
          "name": "stdout"
        },
        {
          "output_type": "stream",
          "text": [
            "100%|██████████| 5625/5625 [01:24<00:00, 66.59it/s]\n",
            "  0%|          | 1/5625 [00:00<11:49,  7.93it/s]"
          ],
          "name": "stderr"
        },
        {
          "output_type": "stream",
          "text": [
            "\n",
            "epoch [48/50], loss:7724.4360\n",
            "\n"
          ],
          "name": "stdout"
        },
        {
          "output_type": "stream",
          "text": [
            "100%|██████████| 5625/5625 [01:24<00:00, 66.65it/s]\n",
            "  0%|          | 4/5625 [00:00<02:23, 39.04it/s]"
          ],
          "name": "stderr"
        },
        {
          "output_type": "stream",
          "text": [
            "\n",
            "epoch [49/50], loss:7721.7637\n",
            "\n"
          ],
          "name": "stdout"
        },
        {
          "output_type": "stream",
          "text": [
            "100%|██████████| 5625/5625 [01:24<00:00, 66.67it/s]"
          ],
          "name": "stderr"
        },
        {
          "output_type": "stream",
          "text": [
            "\n",
            "epoch [50/50], loss:7724.7915\n",
            "\n"
          ],
          "name": "stdout"
        },
        {
          "output_type": "stream",
          "text": [
            "\n"
          ],
          "name": "stderr"
        }
      ]
    },
    {
      "cell_type": "markdown",
      "metadata": {
        "id": "W0mCAPMIk1-v"
      },
      "source": [
        "##**Evaluation**\n",
        "I have used MSE, PSNR and SSIM for evaluation."
      ]
    },
    {
      "cell_type": "code",
      "metadata": {
        "colab": {
          "base_uri": "https://localhost:8080/"
        },
        "id": "nRiAjKOPGXow",
        "outputId": "4fb67161-2736-4c1f-e6bf-1710d411b975"
      },
      "source": [
        "#Loading model \n",
        "#use a pretrained model \n",
        "model = Autoencoder_2decoders().cuda()\n",
        "#check model parameters\n",
        "summary(model,(3,32,32))\n"
      ],
      "execution_count": null,
      "outputs": [
        {
          "output_type": "stream",
          "text": [
            "----------------------------------------------------------------\n",
            "        Layer (type)               Output Shape         Param #\n",
            "================================================================\n",
            "            Conv2d-1           [-1, 32, 16, 16]             896\n",
            "       BatchNorm2d-2           [-1, 32, 16, 16]              64\n",
            "            Conv2d-3             [-1, 64, 8, 8]          18,496\n",
            "       BatchNorm2d-4             [-1, 64, 8, 8]             128\n",
            "            Conv2d-5            [-1, 128, 4, 4]          73,856\n",
            "       BatchNorm2d-6            [-1, 128, 4, 4]             256\n",
            "            Conv2d-7            [-1, 256, 2, 2]         295,168\n",
            "       BatchNorm2d-8            [-1, 256, 2, 2]             512\n",
            "            Conv2d-9            [-1, 256, 2, 2]         590,080\n",
            "      BatchNorm2d-10            [-1, 256, 2, 2]             512\n",
            "  ConvTranspose2d-11            [-1, 256, 4, 4]         590,080\n",
            "      BatchNorm2d-12            [-1, 256, 4, 4]             512\n",
            "  ConvTranspose2d-13            [-1, 128, 8, 8]         442,496\n",
            "      BatchNorm2d-14            [-1, 128, 8, 8]             256\n",
            "  ConvTranspose2d-15           [-1, 64, 16, 16]         110,656\n",
            "      BatchNorm2d-16           [-1, 64, 16, 16]             128\n",
            "  ConvTranspose2d-17           [-1, 32, 32, 32]          27,680\n",
            "      BatchNorm2d-18           [-1, 32, 32, 32]              64\n",
            "  ConvTranspose2d-19            [-1, 3, 32, 32]             867\n",
            "  ConvTranspose2d-20            [-1, 256, 4, 4]         590,080\n",
            "      BatchNorm2d-21            [-1, 256, 4, 4]             512\n",
            "  ConvTranspose2d-22            [-1, 128, 8, 8]         442,496\n",
            "      BatchNorm2d-23            [-1, 128, 8, 8]             256\n",
            "  ConvTranspose2d-24           [-1, 64, 16, 16]         110,656\n",
            "      BatchNorm2d-25           [-1, 64, 16, 16]             128\n",
            "  ConvTranspose2d-26           [-1, 32, 32, 32]          27,680\n",
            "      BatchNorm2d-27           [-1, 32, 32, 32]              64\n",
            "  ConvTranspose2d-28            [-1, 3, 32, 32]             867\n",
            "================================================================\n",
            "Total params: 3,325,446\n",
            "Trainable params: 3,325,446\n",
            "Non-trainable params: 0\n",
            "----------------------------------------------------------------\n",
            "Input size (MB): 0.01\n",
            "Forward/backward pass size (MB): 2.17\n",
            "Params size (MB): 12.69\n",
            "Estimated Total Size (MB): 14.87\n",
            "----------------------------------------------------------------\n"
          ],
          "name": "stdout"
        },
        {
          "output_type": "stream",
          "text": [
            "/usr/local/lib/python3.7/dist-packages/torch/nn/functional.py:1698: UserWarning: nn.functional.tanh is deprecated. Use torch.tanh instead.\n",
            "  warnings.warn(\"nn.functional.tanh is deprecated. Use torch.tanh instead.\")\n"
          ],
          "name": "stderr"
        }
      ]
    },
    {
      "cell_type": "code",
      "metadata": {
        "colab": {
          "base_uri": "https://localhost:8080/"
        },
        "id": "13cmGhx1WEws",
        "outputId": "68985aa0-00aa-4c91-fe1d-60a4a759062c"
      },
      "source": [
        "#Available pre-trained model. Run this block to download a pretrained model\n",
        "if not os.path.exists('./PretrainModels'):\n",
        "    os.mkdir('./PretrainModels')\n",
        "\n",
        "#for downloading pretrained weights\n",
        "%cd PretrainModels/\n",
        "!gdown https://drive.google.com/u/0/uc?id=1dzrD1EqDLvuykodkHiz2sRA9PjQWq4Ls&export=download\n",
        "!gdown https://drive.google.com/u/0/uc?id=17gn6A23ih0JDqlNauX2QvdkiAizv3hB_&export=download\n",
        "%cd .."
      ],
      "execution_count": null,
      "outputs": [
        {
          "output_type": "stream",
          "text": [
            "/content/PretrainModels\n",
            "Downloading...\n",
            "From: https://drive.google.com/u/0/uc?id=1dzrD1EqDLvuykodkHiz2sRA9PjQWq4Ls\n",
            "To: /content/PretrainModels/2DecodersSSIM_epoch400.pth\n",
            "13.3MB [00:00, 50.6MB/s]\n",
            "Downloading...\n",
            "From: https://drive.google.com/u/0/uc?id=17gn6A23ih0JDqlNauX2QvdkiAizv3hB_\n",
            "To: /content/PretrainModels/2DecodersSSIM_epoch100.pth\n",
            "13.3MB [00:00, 61.7MB/s]\n",
            "/content\n"
          ],
          "name": "stdout"
        }
      ]
    },
    {
      "cell_type": "code",
      "metadata": {
        "colab": {
          "base_uri": "https://localhost:8080/",
          "height": 1000
        },
        "id": "fOGyoKDCa6Jc",
        "outputId": "1795e748-f1e1-4c08-e0a1-47516de59505"
      },
      "source": [
        "# Testing \n",
        "\n",
        "#Please change accordingly\n",
        "\n",
        "#uncomment if downloaded a pretrained model\n",
        "model.load_state_dict(torch.load('./PretrainModels/2DecodersSSIM_epoch100.pth'))\n",
        "# model.load_state_dict(torch.load('./PretrainModels/2DecodersSSIM_epoch400.pth'))\n",
        "\n",
        "#uncomment if not downloaded a pretrained model\n",
        "# model.load_state_dict(torch.load('./PretrainModels/AE_model_1.pth'))\n",
        "\n",
        "\n",
        "model.eval()\n",
        "\n",
        "\n",
        "#initialization\n",
        "Evaluate(test_dataloader, model, True)\n",
        "\n"
      ],
      "execution_count": null,
      "outputs": [
        {
          "output_type": "stream",
          "text": [
            "  0%|          | 0/5000 [00:00<?, ?it/s]/usr/local/lib/python3.7/dist-packages/torch/nn/functional.py:1698: UserWarning: nn.functional.tanh is deprecated. Use torch.tanh instead.\n",
            "  warnings.warn(\"nn.functional.tanh is deprecated. Use torch.tanh instead.\")\n",
            "  6%|▌         | 287/5000 [00:02<00:38, 123.25it/s]"
          ],
          "name": "stderr"
        },
        {
          "output_type": "display_data",
          "data": {
            "image/png": "[encoded data removed]",
            "text/plain": [
              "<PIL.Image.Image image mode=RGB size=172x36 at 0x7FBED1332D90>"
            ]
          },
          "metadata": {
            "tags": []
          }
        },
        {
          "output_type": "stream",
          "text": [
            " 12%|█▏        | 589/5000 [00:04<00:35, 123.52it/s]"
          ],
          "name": "stderr"
        },
        {
          "output_type": "display_data",
          "data": {
            "image/png": "[encoded data removed]",
            "text/plain": [
              "<PIL.Image.Image image mode=RGB size=172x36 at 0x7FBED11013D0>"
            ]
          },
          "metadata": {
            "tags": []
          }
        },
        {
          "output_type": "stream",
          "text": [
            " 18%|█▊        | 892/5000 [00:07<00:33, 124.26it/s]"
          ],
          "name": "stderr"
        },
        {
          "output_type": "display_data",
          "data": {
            "image/png": "[encoded data removed]",
            "text/plain": [
              "<PIL.Image.Image image mode=RGB size=172x36 at 0x7FBED1333610>"
            ]
          },
          "metadata": {
            "tags": []
          }
        },
        {
          "output_type": "stream",
          "text": [
            " 24%|██▍       | 1192/5000 [00:09<00:31, 120.55it/s]"
          ],
          "name": "stderr"
        },
        {
          "output_type": "display_data",
          "data": {
            "image/png": "[encoded data removed]",
            "text/plain": [
              "<PIL.Image.Image image mode=RGB size=172x36 at 0x7FBED12D8BD0>"
            ]
          },
          "metadata": {
            "tags": []
          }
        },
        {
          "output_type": "stream",
          "text": [
            " 30%|██▉       | 1494/5000 [00:12<00:28, 124.26it/s]"
          ],
          "name": "stderr"
        },
        {
          "output_type": "display_data",
          "data": {
            "image/png": "[encoded data removed]",
            "text/plain": [
              "<PIL.Image.Image image mode=RGB size=172x36 at 0x7FBED1283A50>"
            ]
          },
          "metadata": {
            "tags": []
          }
        },
        {
          "output_type": "stream",
          "text": [
            " 36%|███▌      | 1795/5000 [00:14<00:26, 122.52it/s]"
          ],
          "name": "stderr"
        },
        {
          "output_type": "display_data",
          "data": {
            "image/png": "[encoded data removed]",
            "text/plain": [
              "<PIL.Image.Image image mode=RGB size=172x36 at 0x7FBED12D20D0>"
            ]
          },
          "metadata": {
            "tags": []
          }
        },
        {
          "output_type": "stream",
          "text": [
            " 42%|████▏     | 2097/5000 [00:17<00:24, 119.86it/s]"
          ],
          "name": "stderr"
        },
        {
          "output_type": "display_data",
          "data": {
            "image/png": "[encoded data removed]",
            "text/plain": [
              "<PIL.Image.Image image mode=RGB size=172x36 at 0x7FBED1333450>"
            ]
          },
          "metadata": {
            "tags": []
          }
        },
        {
          "output_type": "stream",
          "text": [
            " 48%|████▊     | 2394/5000 [00:19<00:21, 123.41it/s]"
          ],
          "name": "stderr"
        },
        {
          "output_type": "display_data",
          "data": {
            "image/png": "[encoded data removed]",
            "text/plain": [
              "<PIL.Image.Image image mode=RGB size=172x36 at 0x7FBED12D8F90>"
            ]
          },
          "metadata": {
            "tags": []
          }
        },
        {
          "output_type": "stream",
          "text": [
            " 54%|█████▍    | 2692/5000 [00:22<00:19, 119.91it/s]"
          ],
          "name": "stderr"
        },
        {
          "output_type": "display_data",
          "data": {
            "image/png": "[encoded data removed]",
            "text/plain": [
              "<PIL.Image.Image image mode=RGB size=172x36 at 0x7FBED1333350>"
            ]
          },
          "metadata": {
            "tags": []
          }
        },
        {
          "output_type": "stream",
          "text": [
            " 60%|█████▉    | 2988/5000 [00:24<00:16, 124.44it/s]"
          ],
          "name": "stderr"
        },
        {
          "output_type": "display_data",
          "data": {
            "image/png": "[encoded data removed]",
            "text/plain": [
              "<PIL.Image.Image image mode=RGB size=172x36 at 0x7FBED12D4B90>"
            ]
          },
          "metadata": {
            "tags": []
          }
        },
        {
          "output_type": "stream",
          "text": [
            " 66%|██████▌   | 3299/5000 [00:27<00:13, 121.94it/s]"
          ],
          "name": "stderr"
        },
        {
          "output_type": "display_data",
          "data": {
            "image/png": "[encoded data removed]",
            "text/plain": [
              "<PIL.Image.Image image mode=RGB size=172x36 at 0x7FBED1333A90>"
            ]
          },
          "metadata": {
            "tags": []
          }
        },
        {
          "output_type": "stream",
          "text": [
            " 72%|███████▏  | 3599/5000 [00:29<00:12, 116.62it/s]"
          ],
          "name": "stderr"
        },
        {
          "output_type": "display_data",
          "data": {
            "image/png": "[encoded data removed]",
            "text/plain": [
              "<PIL.Image.Image image mode=RGB size=172x36 at 0x7FBED1101110>"
            ]
          },
          "metadata": {
            "tags": []
          }
        },
        {
          "output_type": "stream",
          "text": [
            " 78%|███████▊  | 3894/5000 [00:32<00:08, 123.43it/s]"
          ],
          "name": "stderr"
        },
        {
          "output_type": "display_data",
          "data": {
            "image/png": "[encoded data removed]",
            "text/plain": [
              "<PIL.Image.Image image mode=RGB size=172x36 at 0x7FBED1332A90>"
            ]
          },
          "metadata": {
            "tags": []
          }
        },
        {
          "output_type": "stream",
          "text": [
            " 84%|████████▍ | 4196/5000 [00:34<00:06, 120.02it/s]"
          ],
          "name": "stderr"
        },
        {
          "output_type": "display_data",
          "data": {
            "image/png": "[encoded data removed]",
            "text/plain": [
              "<PIL.Image.Image image mode=RGB size=172x36 at 0x7FBED12D8190>"
            ]
          },
          "metadata": {
            "tags": []
          }
        },
        {
          "output_type": "stream",
          "text": [
            " 90%|████████▉ | 4489/5000 [00:37<00:04, 121.48it/s]"
          ],
          "name": "stderr"
        },
        {
          "output_type": "display_data",
          "data": {
            "image/png": "[encoded data removed]",
            "text/plain": [
              "<PIL.Image.Image image mode=RGB size=172x36 at 0x7FBED1333450>"
            ]
          },
          "metadata": {
            "tags": []
          }
        },
        {
          "output_type": "stream",
          "text": [
            " 96%|█████████▌| 4795/5000 [00:39<00:01, 120.29it/s]"
          ],
          "name": "stderr"
        },
        {
          "output_type": "display_data",
          "data": {
            "image/png": "[encoded data removed]",
            "text/plain": [
              "<PIL.Image.Image image mode=RGB size=172x36 at 0x7FBED12D8090>"
            ]
          },
          "metadata": {
            "tags": []
          }
        },
        {
          "output_type": "stream",
          "text": [
            "100%|██████████| 5000/5000 [00:41<00:00, 120.93it/s]"
          ],
          "name": "stderr"
        },
        {
          "output_type": "stream",
          "text": [
            "\n",
            "\n",
            "MSE :0.0313, PSNR: :15.5046, SSIM: :0.5985\n",
            "\n",
            "\n"
          ],
          "name": "stdout"
        },
        {
          "output_type": "stream",
          "text": [
            "\n"
          ],
          "name": "stderr"
        }
      ]
    }
  ]
}